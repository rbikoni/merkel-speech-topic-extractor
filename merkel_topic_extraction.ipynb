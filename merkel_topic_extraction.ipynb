{
 "cells": [
  {
   "cell_type": "markdown",
   "metadata": {},
   "source": [
    "# Topic extraction of merkel speeches"
   ]
  },
  {
   "cell_type": "markdown",
   "metadata": {},
   "source": [
    "# About\n",
    "This notebook explores the capabilities to extract topics from political speeches of Angela Merkel. LSI and LDA are used to extract topics.\n",
    "Speeches are processed with tokenization, lemmatization, stop_words, filtering of part-of-speech-tags and n-grams.\n",
    "\n",
    "In Addition TF-IDF mesaure is used to weight the terms for LSI.\n",
    "\n",
    "There are a lot of other models and approaches which aren't covered by now, but maybe they will."
   ]
  },
  {
   "cell_type": "markdown",
   "metadata": {},
   "source": [
    "## Libraries"
   ]
  },
  {
   "cell_type": "code",
   "execution_count": 34,
   "metadata": {},
   "outputs": [],
   "source": [
    "from nltk.stem.snowball import SnowballStemmer\n",
    "from stop_words import get_stop_words\n",
    "from nltk import ngrams\n",
    "#from gensim.models import TfidfModel\n",
    "\n",
    "from gensim import corpora\n",
    "from gensim.models.coherencemodel import CoherenceModel\n",
    "\n",
    "import gensim\n",
    "import nltk\n",
    "import spacy\n",
    "import pandas as pd"
   ]
  },
  {
   "cell_type": "markdown",
   "metadata": {},
   "source": [
    "## Read Merkel speeches"
   ]
  },
  {
   "cell_type": "markdown",
   "metadata": {},
   "source": [
    "Todo:\n",
    "- Create additional columns for DataFrame like year, then it will be possible to detect topics by year for further investigation"
   ]
  },
  {
   "cell_type": "code",
   "execution_count": 23,
   "metadata": {},
   "outputs": [],
   "source": [
    "with open('all_speeches', \"r\") as f:\n",
    "    speeches = f.read()\n",
    "    speeches = [ speech for speech in speeches.split('\\n') ]\n",
    "\n",
    "df_speeches = pd.DataFrame(data=speeches, columns=[\"speech\"])"
   ]
  },
  {
   "cell_type": "markdown",
   "metadata": {},
   "source": [
    "## Global variables - stemmer, stop word list"
   ]
  },
  {
   "cell_type": "code",
   "execution_count": 27,
   "metadata": {},
   "outputs": [],
   "source": [
    "stop_words = get_stop_words('de')\n",
    "stemmer = SnowballStemmer(\"german\")\n",
    "nlp = spacy.load(\"de\")\n",
    "\n",
    "for sw in stop_words:\n",
    "    w = nlp.vocab[sw]\n",
    "    w.is_stop"
   ]
  },
  {
   "cell_type": "markdown",
   "metadata": {},
   "source": [
    "## Preprocessing functions"
   ]
  },
  {
   "cell_type": "code",
   "execution_count": 28,
   "metadata": {},
   "outputs": [],
   "source": [
    "# preprocess_sw_lemma_nouns\n",
    "# The following steps are executed for a speach\n",
    "# 1. tokenization\n",
    "# 2. lemmatization \n",
    "# 3. stop word removal\n",
    "# 4. filtering nouns\n",
    "def preprocess_sw_lemma_nouns(speech):\n",
    "    tokens = nltk.word_tokenize(speech)\n",
    "    doc = nlp(speech)\n",
    "    result = [token.lemma_ for token in doc if not token.is_stop and token.pos_ == \"NOUN\"\n",
    "             and not token.text == \"Herren\" and not token.text == \"Damen\"\n",
    "             and not token.text == \"Herr\" and not token.text == \"Frau\"]\n",
    "    \n",
    "    return result\n",
    "\n",
    "# preprocess_ngrams\n",
    "# generates bigrams from tokens\n",
    "# e.g.: \"Sehr\" \"geehrte\" will be transformed to \"Sehr_geehrte\"\n",
    "def preprocess_ngrams(tokens, n_grams=2):\n",
    "    grams = nltk.ngrams(tokens, n_grams)\n",
    "    return [\"_\".join(gram) for gram in grams]\n",
    "\n",
    "# preprocess_basic\n",
    "# The following steps are executed for a speech\n",
    "# 1. tokenization\n",
    "# 2. lemmatization \n",
    "# 3. stop word removal\n",
    "# 4. excule multiple part-of-speech tags\n",
    "def preprocess_basic(speech):\n",
    "    tokens = nltk.word_tokenize(speech)\n",
    "    doc = nlp(speech)\n",
    "    result = [token.lemma_ for token in doc if not token.is_stop and \n",
    "              not token.pos_ == \"SYM\" and not token.pos_ == \"PRON\" and not token.pos_ == \"NUM\" and \n",
    "              not token.pos_ == \"DET\" and not token.pos_ == \"CONJ\" and not token.pos_ == \"PUNCT\" and\n",
    "              not token.pos_ == \"ADV\" and not token.text == \"Herren\" and not token.text == \"Damen\" and\n",
    "              not token.text == \"Herr\" and not token.text == \"Frau\" and\n",
    "              token.is_alpha]\n",
    "    return result"
   ]
  },
  {
   "cell_type": "markdown",
   "metadata": {},
   "source": [
    "## Perform preprocessing step"
   ]
  },
  {
   "cell_type": "code",
   "execution_count": 29,
   "metadata": {},
   "outputs": [],
   "source": [
    "text_data = []\n",
    "for speech in speeches:\n",
    "    preprocessed_speech = preprocess_sw_lemma_nouns(speech)\n",
    "   # preprocessed_speech = preprocess_ngrams(preprocessed_speech)\n",
    "    text_data.append(preprocessed_speech)"
   ]
  },
  {
   "cell_type": "markdown",
   "metadata": {},
   "source": [
    "## Generate dictionary and corpus"
   ]
  },
  {
   "cell_type": "code",
   "execution_count": 30,
   "metadata": {},
   "outputs": [],
   "source": [
    "dictionary = corpora.Dictionary(text_data)\n",
    "corpus = [dictionary.doc2bow(speech) for speech in text_data]"
   ]
  },
  {
   "cell_type": "markdown",
   "metadata": {},
   "source": [
    "## Optional - save corpus and dictionary"
   ]
  },
  {
   "cell_type": "code",
   "execution_count": 31,
   "metadata": {},
   "outputs": [],
   "source": [
    "import pickle\n",
    "pickle.dump(corpus, open('corpus.pkl', 'wb'))\n",
    "dictionary.save('dictionary.gensim')"
   ]
  },
  {
   "cell_type": "markdown",
   "metadata": {},
   "source": [
    "## Evaluation of multiple models by coherence score and perplexity"
   ]
  },
  {
   "cell_type": "markdown",
   "metadata": {},
   "source": [
    "Multiple models are generated and compared by their coherence score and perplexity. The number of topics have a big influence of these metrics. num_topics can be chosen by the optimal setting of these parameter or explorative.\n",
    "\n",
    "TODO: \n",
    "- replace - gensim provides function to execute different model to retrieve the \"best\" model\n",
    "- better evaluation with Cross-Validation"
   ]
  },
  {
   "cell_type": "code",
   "execution_count": 35,
   "metadata": {},
   "outputs": [],
   "source": [
    "import warnings; warnings.simplefilter('ignore')\n",
    "\n",
    "MIN_NUM_TOPICS = 3\n",
    "MAX_NUM_TOPICS = 15\n",
    "\n",
    "results = []\n",
    "#lda_model = gensim.models.ldamodel.LdaModel(corpus, num_topics=NUM_TOPICS, id2word=dictionary)\n",
    "#lda_model.save(\"merkel_lda.gensim\")\n",
    "\n",
    "compare = pd.DataFrame(columns=[\"number_of_topics\", \"coherence_score\", \"perplexity\"])\n",
    "compare.number_of_topics = compare.number_of_topics.astype(int)\n",
    "\n",
    "lda_models = {}\n",
    "\n",
    "for number_of_topics in range(MIN_NUM_TOPICS, MAX_NUM_TOPICS+1):\n",
    "    lda_model = gensim.models.ldamodel.LdaModel(corpus, num_topics=number_of_topics, id2word=dictionary)\n",
    "    topics = lda_model.print_topics(num_words=10)\n",
    "    \n",
    "    perplexity_score = lda_model.log_perplexity(corpus)\n",
    "    coherence_model_lda = CoherenceModel(model=lda_model, texts=text_data, dictionary=dictionary, coherence='c_v')\n",
    "    coherence = coherence_model_lda.get_coherence()\n",
    "    \n",
    "    compare = compare.append({'number_of_topics':number_of_topics, \n",
    "                              'coherence_score':coherence, \n",
    "                              'perplexity':perplexity_score}, \n",
    "                             ignore_index=True)\n",
    "    \n",
    "    lda_models[str(number_of_topics)] = lda_model\n",
    "    #print(topics)"
   ]
  },
  {
   "cell_type": "markdown",
   "metadata": {},
   "source": [
    "## Plotting"
   ]
  },
  {
   "cell_type": "code",
   "execution_count": 49,
   "metadata": {},
   "outputs": [
    {
     "data": {
      "text/plain": [
       "Text(0, 0.5, 'perplexity_score')"
      ]
     },
     "execution_count": 49,
     "metadata": {},
     "output_type": "execute_result"
    },
    {
     "data": {
      "image/png": "[encoded data removed]",
      "text/plain": [
       "<Figure size 432x288 with 1 Axes>"
      ]
     },
     "metadata": {
      "needs_background": "light"
     },
     "output_type": "display_data"
    },
    {
     "data": {
      "image/png": "[encoded data removed]",
      "text/plain": [
       "<Figure size 432x288 with 1 Axes>"
      ]
     },
     "metadata": {
      "needs_background": "light"
     },
     "output_type": "display_data"
    }
   ],
   "source": [
    "import matplotlib.pyplot as plt\n",
    "\n",
    "plt.show()\n",
    "\n",
    "plt = compare.plot(x=\"number_of_topics\", y=\"coherence_score\")\n",
    "plt.set_ylabel('coherence_score')\n",
    "\n",
    "plt = compare.plot(x=\"number_of_topics\", y=\"perplexity\")\n",
    "plt.set_ylabel('perplexity_score')"
   ]
  },
  {
   "cell_type": "code",
   "execution_count": 53,
   "metadata": {},
   "outputs": [],
   "source": [
    "best_model_key = \"13\" # best model"
   ]
  },
  {
   "cell_type": "markdown",
   "metadata": {},
   "source": [
    "# Part two - use TFIDF to enhance results"
   ]
  },
  {
   "cell_type": "markdown",
   "metadata": {},
   "source": [
    "In this part we are using TF-IDF value to \"enhance\" our documents. The use of this metric can improve the results of the extracted topics. \n",
    "https://en.wikipedia.org/wiki/Tf–idf ."
   ]
  },
  {
   "cell_type": "markdown",
   "metadata": {},
   "source": [
    "## Generate TF-IDF based corpus and model"
   ]
  },
  {
   "cell_type": "code",
   "execution_count": 54,
   "metadata": {},
   "outputs": [
    {
     "name": "stdout",
     "output_type": "stream",
     "text": [
      "TfidfModel(num_docs=826, num_nnz=170786)\n"
     ]
    }
   ],
   "source": [
    "tfidf_model = gensim.models.TfidfModel(corpus)\n",
    "print(tfidf_model)\n",
    "tfidf_corpus = tfidf_model[corpus]"
   ]
  },
  {
   "cell_type": "markdown",
   "metadata": {},
   "source": [
    "# Part three - Visualization"
   ]
  },
  {
   "cell_type": "markdown",
   "metadata": {},
   "source": [
    "TODO:\n",
    "- color highlighting for words in speeches to the corresponding topics"
   ]
  },
  {
   "cell_type": "code",
   "execution_count": 77,
   "metadata": {},
   "outputs": [],
   "source": [
    "import pyLDAvis.gensim\n",
    "pd.set_option('display.max_colwidth', -1)"
   ]
  },
  {
   "cell_type": "code",
   "execution_count": 78,
   "metadata": {},
   "outputs": [
    {
     "data": {
      "text/html": [
       "<div>\n",
       "<style scoped>\n",
       "    .dataframe tbody tr th:only-of-type {\n",
       "        vertical-align: middle;\n",
       "    }\n",
       "\n",
       "    .dataframe tbody tr th {\n",
       "        vertical-align: top;\n",
       "    }\n",
       "\n",
       "    .dataframe thead th {\n",
       "        text-align: right;\n",
       "    }\n",
       "</style>\n",
       "<table border=\"1\" class=\"dataframe\">\n",
       "  <thead>\n",
       "    <tr style=\"text-align: right;\">\n",
       "      <th></th>\n",
       "      <th>topic_number</th>\n",
       "      <th>words</th>\n",
       "    </tr>\n",
       "  </thead>\n",
       "  <tbody>\n",
       "    <tr>\n",
       "      <th>0</th>\n",
       "      <td>0</td>\n",
       "      <td>0.120*\"Jahr\" + 0.118*\"Union\" + 0.108*\"Unternehmen\" + 0.106*\"Land\" + 0.105*\"Prozent\" + 0.103*\"Frage\" + 0.097*\"Thema\" + 0.096*\"Mensch\" + 0.091*\"Bereich\" + 0.090*\"Wirtschaft\"</td>\n",
       "    </tr>\n",
       "    <tr>\n",
       "      <th>1</th>\n",
       "      <td>1</td>\n",
       "      <td>0.176*\"Freiheit\" + 0.145*\"Vertriebene\" + 0.130*\"Friede\" + 0.123*\"Vertreibung\" + -0.122*\"Unternehmen\" + 0.120*\"Geschichte\" + 0.116*\"Versöhnung\" + -0.115*\"Energie\" + 0.109*\"Antisemitismus\" + 0.108*\"Freundschaft\"</td>\n",
       "    </tr>\n",
       "    <tr>\n",
       "      <th>2</th>\n",
       "      <td>2</td>\n",
       "      <td>-0.932*\"Mai\" + -0.150*\"Frau\" + -0.084*\"Familie\" + -0.060*\"Kind\" + -0.059*\"Mann\" + 0.053*\"Union\" + -0.050*\"berufen\" + -0.041*\"Gesellschaft\" + -0.038*\"Behinderung\" + -0.036*\"alt\"</td>\n",
       "    </tr>\n",
       "    <tr>\n",
       "      <th>3</th>\n",
       "      <td>3</td>\n",
       "      <td>0.395*\"Frau\" + -0.351*\"Mai\" + 0.238*\"Familie\" + 0.172*\"Kind\" + 0.158*\"Mann\" + -0.135*\"Union\" + 0.129*\"berufen\" + 0.115*\"Gesellschaft\" + 0.106*\"Behinderung\" + 0.094*\"Eltern\"</td>\n",
       "    </tr>\n",
       "    <tr>\n",
       "      <th>4</th>\n",
       "      <td>4</td>\n",
       "      <td>-0.301*\"messen\" + -0.157*\"Wissenschaft\" + -0.155*\"Unternehmen\" + 0.148*\"Flüchtling\" + -0.141*\"Industrie\" + -0.141*\"Forschung\" + -0.127*\"Premierminister\" + -0.122*\"Aussteller\" + 0.100*\"Banken\" + -0.099*\"Professor\"</td>\n",
       "    </tr>\n",
       "    <tr>\n",
       "      <th>5</th>\n",
       "      <td>5</td>\n",
       "      <td>-0.315*\"Nachhaltigkeit\" + -0.226*\"Frau\" + -0.188*\"zielen\" + -0.148*\"Energie\" + -0.147*\"Klimaschutz\" + 0.143*\"messen\" + -0.117*\"Nation\" + -0.109*\"Klimawandel\" + -0.107*\"Konferenz\" + -0.098*\"Agenda\"</td>\n",
       "    </tr>\n",
       "    <tr>\n",
       "      <th>6</th>\n",
       "      <td>6</td>\n",
       "      <td>0.388*\"Frau\" + -0.259*\"Vertriebene\" + -0.183*\"Vertreibung\" + -0.154*\"Flüchtling\" + 0.151*\"Mann\" + -0.129*\"Flucht\" + 0.119*\"Krise\" + -0.116*\"Nachhaltigkeit\" + -0.113*\"Behinderung\" + 0.111*\"Freiheit\"</td>\n",
       "    </tr>\n",
       "    <tr>\n",
       "      <th>7</th>\n",
       "      <td>7</td>\n",
       "      <td>-0.282*\"Flüchtling\" + 0.166*\"Vertriebene\" + -0.163*\"Frau\" + -0.143*\"Digitalisierung\" + 0.120*\"Wachstum\" + -0.120*\"Außengrenzen\" + 0.116*\"Energie\" + 0.113*\"Nachhaltigkeit\" + -0.107*\"Migration\" + 0.105*\"Banken\"</td>\n",
       "    </tr>\n",
       "    <tr>\n",
       "      <th>8</th>\n",
       "      <td>8</td>\n",
       "      <td>-0.416*\"Vertriebene\" + -0.360*\"Frau\" + -0.306*\"Vertreibung\" + -0.200*\"Flucht\" + 0.172*\"Behinderung\" + -0.117*\"Versöhnung\" + -0.113*\"Mann\" + 0.105*\"Freiheit\" + -0.104*\"Heimatvertriebenen\" + -0.100*\"Heimat\"</td>\n",
       "    </tr>\n",
       "    <tr>\n",
       "      <th>9</th>\n",
       "      <td>9</td>\n",
       "      <td>0.318*\"messen\" + -0.226*\"Forschung\" + -0.226*\"Wissenschaft\" + -0.150*\"Universität\" + 0.128*\"Antisemitismus\" + -0.123*\"Professor\" + 0.121*\"Nachhaltigkeit\" + 0.121*\"Aussteller\" + -0.117*\"Flüchtling\" + -0.115*\"Forscher\"</td>\n",
       "    </tr>\n",
       "    <tr>\n",
       "      <th>10</th>\n",
       "      <td>10</td>\n",
       "      <td>-0.256*\"Antisemitismus\" + -0.234*\"Jude\" + 0.222*\"Behinderung\" + 0.191*\"messen\" + 0.153*\"Kind\" + 0.135*\"Sternsinger\" + 0.121*\"Familie\" + -0.113*\"Shoa\" + -0.109*\"Frau\" + -0.107*\"Hass\"</td>\n",
       "    </tr>\n",
       "    <tr>\n",
       "      <th>11</th>\n",
       "      <td>11</td>\n",
       "      <td>-0.219*\"Behinderung\" + 0.194*\"Freundschaft\" + -0.156*\"Antisemitismus\" + 0.144*\"Elektromobilität\" + -0.135*\"Jude\" + -0.134*\"Flüchtling\" + -0.130*\"Integration\" + -0.118*\"Sport\" + 0.116*\"Nachhaltigkeit\" + -0.100*\"messen\"</td>\n",
       "    </tr>\n",
       "    <tr>\n",
       "      <th>12</th>\n",
       "      <td>12</td>\n",
       "      <td>0.279*\"Behinderung\" + -0.229*\"Flüchtling\" + -0.143*\"Integration\" + 0.131*\"Krankheit\" + 0.127*\"Sparkasse\" + -0.127*\"Energie\" + 0.116*\"Inklusion\" + 0.108*\"Digitalisierung\" + 0.104*\"Banken\" + 0.100*\"G20\"</td>\n",
       "    </tr>\n",
       "  </tbody>\n",
       "</table>\n",
       "</div>"
      ],
      "text/plain": [
       "   topic_number  \\\n",
       "0   0             \n",
       "1   1             \n",
       "2   2             \n",
       "3   3             \n",
       "4   4             \n",
       "5   5             \n",
       "6   6             \n",
       "7   7             \n",
       "8   8             \n",
       "9   9             \n",
       "10  10            \n",
       "11  11            \n",
       "12  12            \n",
       "\n",
       "                                                                                                                                                                                                                        words  \n",
       "0   0.120*\"Jahr\" + 0.118*\"Union\" + 0.108*\"Unternehmen\" + 0.106*\"Land\" + 0.105*\"Prozent\" + 0.103*\"Frage\" + 0.097*\"Thema\" + 0.096*\"Mensch\" + 0.091*\"Bereich\" + 0.090*\"Wirtschaft\"                                                \n",
       "1   0.176*\"Freiheit\" + 0.145*\"Vertriebene\" + 0.130*\"Friede\" + 0.123*\"Vertreibung\" + -0.122*\"Unternehmen\" + 0.120*\"Geschichte\" + 0.116*\"Versöhnung\" + -0.115*\"Energie\" + 0.109*\"Antisemitismus\" + 0.108*\"Freundschaft\"          \n",
       "2   -0.932*\"Mai\" + -0.150*\"Frau\" + -0.084*\"Familie\" + -0.060*\"Kind\" + -0.059*\"Mann\" + 0.053*\"Union\" + -0.050*\"berufen\" + -0.041*\"Gesellschaft\" + -0.038*\"Behinderung\" + -0.036*\"alt\"                                           \n",
       "3   0.395*\"Frau\" + -0.351*\"Mai\" + 0.238*\"Familie\" + 0.172*\"Kind\" + 0.158*\"Mann\" + -0.135*\"Union\" + 0.129*\"berufen\" + 0.115*\"Gesellschaft\" + 0.106*\"Behinderung\" + 0.094*\"Eltern\"                                               \n",
       "4   -0.301*\"messen\" + -0.157*\"Wissenschaft\" + -0.155*\"Unternehmen\" + 0.148*\"Flüchtling\" + -0.141*\"Industrie\" + -0.141*\"Forschung\" + -0.127*\"Premierminister\" + -0.122*\"Aussteller\" + 0.100*\"Banken\" + -0.099*\"Professor\"       \n",
       "5   -0.315*\"Nachhaltigkeit\" + -0.226*\"Frau\" + -0.188*\"zielen\" + -0.148*\"Energie\" + -0.147*\"Klimaschutz\" + 0.143*\"messen\" + -0.117*\"Nation\" + -0.109*\"Klimawandel\" + -0.107*\"Konferenz\" + -0.098*\"Agenda\"                       \n",
       "6   0.388*\"Frau\" + -0.259*\"Vertriebene\" + -0.183*\"Vertreibung\" + -0.154*\"Flüchtling\" + 0.151*\"Mann\" + -0.129*\"Flucht\" + 0.119*\"Krise\" + -0.116*\"Nachhaltigkeit\" + -0.113*\"Behinderung\" + 0.111*\"Freiheit\"                      \n",
       "7   -0.282*\"Flüchtling\" + 0.166*\"Vertriebene\" + -0.163*\"Frau\" + -0.143*\"Digitalisierung\" + 0.120*\"Wachstum\" + -0.120*\"Außengrenzen\" + 0.116*\"Energie\" + 0.113*\"Nachhaltigkeit\" + -0.107*\"Migration\" + 0.105*\"Banken\"           \n",
       "8   -0.416*\"Vertriebene\" + -0.360*\"Frau\" + -0.306*\"Vertreibung\" + -0.200*\"Flucht\" + 0.172*\"Behinderung\" + -0.117*\"Versöhnung\" + -0.113*\"Mann\" + 0.105*\"Freiheit\" + -0.104*\"Heimatvertriebenen\" + -0.100*\"Heimat\"               \n",
       "9   0.318*\"messen\" + -0.226*\"Forschung\" + -0.226*\"Wissenschaft\" + -0.150*\"Universität\" + 0.128*\"Antisemitismus\" + -0.123*\"Professor\" + 0.121*\"Nachhaltigkeit\" + 0.121*\"Aussteller\" + -0.117*\"Flüchtling\" + -0.115*\"Forscher\"   \n",
       "10  -0.256*\"Antisemitismus\" + -0.234*\"Jude\" + 0.222*\"Behinderung\" + 0.191*\"messen\" + 0.153*\"Kind\" + 0.135*\"Sternsinger\" + 0.121*\"Familie\" + -0.113*\"Shoa\" + -0.109*\"Frau\" + -0.107*\"Hass\"                                      \n",
       "11  -0.219*\"Behinderung\" + 0.194*\"Freundschaft\" + -0.156*\"Antisemitismus\" + 0.144*\"Elektromobilität\" + -0.135*\"Jude\" + -0.134*\"Flüchtling\" + -0.130*\"Integration\" + -0.118*\"Sport\" + 0.116*\"Nachhaltigkeit\" + -0.100*\"messen\"  \n",
       "12  0.279*\"Behinderung\" + -0.229*\"Flüchtling\" + -0.143*\"Integration\" + 0.131*\"Krankheit\" + 0.127*\"Sparkasse\" + -0.127*\"Energie\" + 0.116*\"Inklusion\" + 0.108*\"Digitalisierung\" + 0.104*\"Banken\" + 0.100*\"G20\"                   "
      ]
     },
     "execution_count": 78,
     "metadata": {},
     "output_type": "execute_result"
    }
   ],
   "source": [
    "lsi = gensim.models.LsiModel(tfidf_corpus, id2word=dictionary, num_topics=13)\n",
    "lsi_corpus = lsi[tfidf_corpus]\n",
    "lsi_topics = lsi.print_topics(13)\n",
    "lsi_result = pd.DataFrame(columns=['topic_number', 'words'])\n",
    "for topic_number, words in lsi_topics:\n",
    "    lsi_result = lsi_result.append({\"topic_number\":topic_number, \"words\":words}, ignore_index=True)\n",
    "\n",
    "lsi_result\n",
    "    "
   ]
  },
  {
   "cell_type": "code",
   "execution_count": 80,
   "metadata": {},
   "outputs": [
    {
     "data": {
      "text/html": [
       "<div>\n",
       "<style scoped>\n",
       "    .dataframe tbody tr th:only-of-type {\n",
       "        vertical-align: middle;\n",
       "    }\n",
       "\n",
       "    .dataframe tbody tr th {\n",
       "        vertical-align: top;\n",
       "    }\n",
       "\n",
       "    .dataframe thead th {\n",
       "        text-align: right;\n",
       "    }\n",
       "</style>\n",
       "<table border=\"1\" class=\"dataframe\">\n",
       "  <thead>\n",
       "    <tr style=\"text-align: right;\">\n",
       "      <th></th>\n",
       "      <th>topic_number</th>\n",
       "      <th>words</th>\n",
       "    </tr>\n",
       "  </thead>\n",
       "  <tbody>\n",
       "    <tr>\n",
       "      <th>0</th>\n",
       "      <td>0</td>\n",
       "      <td>0.011*\"Land\" + 0.011*\"Mensch\" + 0.010*\"Jahr\" + 0.007*\"Frage\" + 0.006*\"Beispiel\" + 0.006*\"Welt\" + 0.005*\"Unternehmen\" + 0.005*\"Prozent\" + 0.005*\"Entwicklung\" + 0.004*\"Bundesregierung\"</td>\n",
       "    </tr>\n",
       "    <tr>\n",
       "      <th>1</th>\n",
       "      <td>1</td>\n",
       "      <td>0.020*\"Jahr\" + 0.016*\"Land\" + 0.012*\"Mensch\" + 0.010*\"Frage\" + 0.008*\"Welt\" + 0.006*\"Unternehmen\" + 0.005*\"Thema\" + 0.005*\"Beispiel\" + 0.005*\"Prozent\" + 0.005*\"Staat\"</td>\n",
       "    </tr>\n",
       "    <tr>\n",
       "      <th>2</th>\n",
       "      <td>2</td>\n",
       "      <td>0.019*\"Land\" + 0.014*\"Jahr\" + 0.012*\"Mensch\" + 0.008*\"Frage\" + 0.007*\"Beispiel\" + 0.007*\"Welt\" + 0.006*\"Union\" + 0.005*\"Zeit\" + 0.005*\"Weg\" + 0.004*\"Zukunft\"</td>\n",
       "    </tr>\n",
       "    <tr>\n",
       "      <th>3</th>\n",
       "      <td>3</td>\n",
       "      <td>0.016*\"Jahr\" + 0.014*\"Land\" + 0.012*\"Mensch\" + 0.009*\"Frage\" + 0.006*\"Beispiel\" + 0.005*\"Staat\" + 0.005*\"Bundesregierung\" + 0.005*\"Zeit\" + 0.005*\"Zukunft\" + 0.004*\"Welt\"</td>\n",
       "    </tr>\n",
       "    <tr>\n",
       "      <th>4</th>\n",
       "      <td>4</td>\n",
       "      <td>0.017*\"Jahr\" + 0.015*\"Land\" + 0.014*\"Mensch\" + 0.010*\"Frage\" + 0.007*\"Welt\" + 0.006*\"Beispiel\" + 0.006*\"Entwicklung\" + 0.005*\"Prozent\" + 0.005*\"Zukunft\" + 0.005*\"Bundesregierung\"</td>\n",
       "    </tr>\n",
       "    <tr>\n",
       "      <th>5</th>\n",
       "      <td>5</td>\n",
       "      <td>0.017*\"Jahr\" + 0.015*\"Mensch\" + 0.011*\"Land\" + 0.010*\"Frage\" + 0.008*\"Welt\" + 0.006*\"Beispiel\" + 0.006*\"Thema\" + 0.006*\"Zeit\" + 0.006*\"Bereich\" + 0.005*\"Unternehmen\"</td>\n",
       "    </tr>\n",
       "    <tr>\n",
       "      <th>6</th>\n",
       "      <td>6</td>\n",
       "      <td>0.022*\"Jahr\" + 0.016*\"Land\" + 0.011*\"Mensch\" + 0.007*\"Entwicklung\" + 0.007*\"Frage\" + 0.007*\"Welt\" + 0.006*\"Zeit\" + 0.006*\"Staat\" + 0.006*\"Thema\" + 0.006*\"Union\"</td>\n",
       "    </tr>\n",
       "    <tr>\n",
       "      <th>7</th>\n",
       "      <td>7</td>\n",
       "      <td>0.021*\"Jahr\" + 0.014*\"Land\" + 0.010*\"Mensch\" + 0.008*\"Beispiel\" + 0.007*\"Frage\" + 0.007*\"Welt\" + 0.006*\"Thema\" + 0.006*\"Weg\" + 0.005*\"Unternehmen\" + 0.005*\"Prozent\"</td>\n",
       "    </tr>\n",
       "    <tr>\n",
       "      <th>8</th>\n",
       "      <td>8</td>\n",
       "      <td>0.016*\"Land\" + 0.015*\"Jahr\" + 0.010*\"Mensch\" + 0.006*\"Beispiel\" + 0.005*\"Entwicklung\" + 0.005*\"Frage\" + 0.005*\"Weg\" + 0.005*\"Thema\" + 0.004*\"Welt\" + 0.004*\"Zukunft\"</td>\n",
       "    </tr>\n",
       "    <tr>\n",
       "      <th>9</th>\n",
       "      <td>9</td>\n",
       "      <td>0.017*\"Jahr\" + 0.015*\"Mensch\" + 0.011*\"Land\" + 0.009*\"Frage\" + 0.006*\"Beispiel\" + 0.006*\"Welt\" + 0.006*\"Prozent\" + 0.006*\"Thema\" + 0.005*\"Zeit\" + 0.005*\"Staat\"</td>\n",
       "    </tr>\n",
       "    <tr>\n",
       "      <th>10</th>\n",
       "      <td>10</td>\n",
       "      <td>0.013*\"Land\" + 0.011*\"Mensch\" + 0.010*\"Jahr\" + 0.008*\"Frage\" + 0.008*\"Thema\" + 0.007*\"Bereich\" + 0.006*\"Unternehmen\" + 0.006*\"Wirtschaft\" + 0.006*\"Welt\" + 0.006*\"Beispiel\"</td>\n",
       "    </tr>\n",
       "    <tr>\n",
       "      <th>11</th>\n",
       "      <td>11</td>\n",
       "      <td>0.021*\"Jahr\" + 0.014*\"Mensch\" + 0.013*\"Land\" + 0.010*\"Frage\" + 0.010*\"Beispiel\" + 0.008*\"Thema\" + 0.006*\"Weg\" + 0.006*\"Zeit\" + 0.005*\"Welt\" + 0.005*\"Zukunft\"</td>\n",
       "    </tr>\n",
       "    <tr>\n",
       "      <th>12</th>\n",
       "      <td>12</td>\n",
       "      <td>0.015*\"Jahr\" + 0.014*\"Land\" + 0.009*\"Mensch\" + 0.008*\"Frage\" + 0.006*\"Bundesregierung\" + 0.006*\"Welt\" + 0.006*\"Staat\" + 0.005*\"Bereich\" + 0.005*\"Union\" + 0.005*\"Thema\"</td>\n",
       "    </tr>\n",
       "  </tbody>\n",
       "</table>\n",
       "</div>"
      ],
      "text/plain": [
       "   topic_number  \\\n",
       "0   0             \n",
       "1   1             \n",
       "2   2             \n",
       "3   3             \n",
       "4   4             \n",
       "5   5             \n",
       "6   6             \n",
       "7   7             \n",
       "8   8             \n",
       "9   9             \n",
       "10  10            \n",
       "11  11            \n",
       "12  12            \n",
       "\n",
       "                                                                                                                                                                                     words  \n",
       "0   0.011*\"Land\" + 0.011*\"Mensch\" + 0.010*\"Jahr\" + 0.007*\"Frage\" + 0.006*\"Beispiel\" + 0.006*\"Welt\" + 0.005*\"Unternehmen\" + 0.005*\"Prozent\" + 0.005*\"Entwicklung\" + 0.004*\"Bundesregierung\"  \n",
       "1   0.020*\"Jahr\" + 0.016*\"Land\" + 0.012*\"Mensch\" + 0.010*\"Frage\" + 0.008*\"Welt\" + 0.006*\"Unternehmen\" + 0.005*\"Thema\" + 0.005*\"Beispiel\" + 0.005*\"Prozent\" + 0.005*\"Staat\"                  \n",
       "2   0.019*\"Land\" + 0.014*\"Jahr\" + 0.012*\"Mensch\" + 0.008*\"Frage\" + 0.007*\"Beispiel\" + 0.007*\"Welt\" + 0.006*\"Union\" + 0.005*\"Zeit\" + 0.005*\"Weg\" + 0.004*\"Zukunft\"                           \n",
       "3   0.016*\"Jahr\" + 0.014*\"Land\" + 0.012*\"Mensch\" + 0.009*\"Frage\" + 0.006*\"Beispiel\" + 0.005*\"Staat\" + 0.005*\"Bundesregierung\" + 0.005*\"Zeit\" + 0.005*\"Zukunft\" + 0.004*\"Welt\"               \n",
       "4   0.017*\"Jahr\" + 0.015*\"Land\" + 0.014*\"Mensch\" + 0.010*\"Frage\" + 0.007*\"Welt\" + 0.006*\"Beispiel\" + 0.006*\"Entwicklung\" + 0.005*\"Prozent\" + 0.005*\"Zukunft\" + 0.005*\"Bundesregierung\"      \n",
       "5   0.017*\"Jahr\" + 0.015*\"Mensch\" + 0.011*\"Land\" + 0.010*\"Frage\" + 0.008*\"Welt\" + 0.006*\"Beispiel\" + 0.006*\"Thema\" + 0.006*\"Zeit\" + 0.006*\"Bereich\" + 0.005*\"Unternehmen\"                   \n",
       "6   0.022*\"Jahr\" + 0.016*\"Land\" + 0.011*\"Mensch\" + 0.007*\"Entwicklung\" + 0.007*\"Frage\" + 0.007*\"Welt\" + 0.006*\"Zeit\" + 0.006*\"Staat\" + 0.006*\"Thema\" + 0.006*\"Union\"                        \n",
       "7   0.021*\"Jahr\" + 0.014*\"Land\" + 0.010*\"Mensch\" + 0.008*\"Beispiel\" + 0.007*\"Frage\" + 0.007*\"Welt\" + 0.006*\"Thema\" + 0.006*\"Weg\" + 0.005*\"Unternehmen\" + 0.005*\"Prozent\"                    \n",
       "8   0.016*\"Land\" + 0.015*\"Jahr\" + 0.010*\"Mensch\" + 0.006*\"Beispiel\" + 0.005*\"Entwicklung\" + 0.005*\"Frage\" + 0.005*\"Weg\" + 0.005*\"Thema\" + 0.004*\"Welt\" + 0.004*\"Zukunft\"                    \n",
       "9   0.017*\"Jahr\" + 0.015*\"Mensch\" + 0.011*\"Land\" + 0.009*\"Frage\" + 0.006*\"Beispiel\" + 0.006*\"Welt\" + 0.006*\"Prozent\" + 0.006*\"Thema\" + 0.005*\"Zeit\" + 0.005*\"Staat\"                         \n",
       "10  0.013*\"Land\" + 0.011*\"Mensch\" + 0.010*\"Jahr\" + 0.008*\"Frage\" + 0.008*\"Thema\" + 0.007*\"Bereich\" + 0.006*\"Unternehmen\" + 0.006*\"Wirtschaft\" + 0.006*\"Welt\" + 0.006*\"Beispiel\"             \n",
       "11  0.021*\"Jahr\" + 0.014*\"Mensch\" + 0.013*\"Land\" + 0.010*\"Frage\" + 0.010*\"Beispiel\" + 0.008*\"Thema\" + 0.006*\"Weg\" + 0.006*\"Zeit\" + 0.005*\"Welt\" + 0.005*\"Zukunft\"                           \n",
       "12  0.015*\"Jahr\" + 0.014*\"Land\" + 0.009*\"Mensch\" + 0.008*\"Frage\" + 0.006*\"Bundesregierung\" + 0.006*\"Welt\" + 0.006*\"Staat\" + 0.005*\"Bereich\" + 0.005*\"Union\" + 0.005*\"Thema\"                 "
      ]
     },
     "execution_count": 80,
     "metadata": {},
     "output_type": "execute_result"
    }
   ],
   "source": [
    "lda_result = pd.DataFrame(columns=['topic_number', 'words'])\n",
    "lda_topics = lda_models[best_model_key].print_topics(num_words=10)\n",
    "for topic_number, words in lda_topics:\n",
    "    lda_result = lda_result.append({\"topic_number\":topic_number, \"words\":words}, ignore_index=True)\n",
    "lda_result"
   ]
  },
  {
   "cell_type": "code",
   "execution_count": null,
   "metadata": {},
   "outputs": [],
   "source": [
    "lda_display = pyLDAvis.gensim.prepare(lda_models[best_model_key], corpus, dictionary, sort_topics=True, mds='tsne')\n",
    "pyLDAvis.display(lda_display)"
   ]
  },
  {
   "cell_type": "code",
   "execution_count": 59,
   "metadata": {},
   "outputs": [
    {
     "data": {
      "text/html": [
       "\n",
       "<link rel=\"stylesheet\" type=\"text/css\" href=\"https://cdn.rawgit.com/bmabey/pyLDAvis/files/ldavis.v1.0.0.css\">\n",
       "\n",
       "\n",
       "<div id=\"ldavis_el8241122172869609262146369\"></div>\n",
       "<script type=\"text/javascript\">\n",
       "\n",
       "var ldavis_el8241122172869609262146369_data = {\"mdsDat\": {\"x\": [-0.00014317033761549448, 0.0030185554006122487, -0.0017255525410519992, 0.005830157609221198, -0.014295799049627427, 0.0021783166173727406, 0.0032177147815443145, 0.0011911715892030962, 0.0012936552757602062, -0.0005650493454188857], \"y\": [-0.012418009126792343, 0.0049899058842534354, 0.0011907494284910155, -0.004216737910025735, 4.521535742775603e-05, 0.005151765404308481, -0.0009981210246677189, 0.0022692560192737886, 0.0010673193789204926, 0.0029186565888108173], \"topics\": [1, 2, 3, 4, 5, 6, 7, 8, 9, 10], \"cluster\": [1, 1, 1, 1, 1, 1, 1, 1, 1, 1], \"Freq\": [13.88863754272461, 6.714293956756592, 10.781810760498047, 11.4136381149292, 16.339046478271484, 6.280902862548828, 9.926939964294434, 8.615757942199707, 7.641709804534912, 8.397261619567871]}, \"tinfo\": {\"Category\": [\"Default\", \"Default\", \"Default\", \"Default\", \"Default\", \"Default\", \"Default\", \"Default\", \"Default\", \"Default\", \"Default\", \"Default\", \"Default\", \"Default\", \"Default\", \"Default\", \"Default\", \"Default\", \"Default\", \"Default\", \"Default\", \"Default\", \"Default\", \"Default\", \"Default\", \"Default\", \"Default\", \"Default\", \"Default\", \"Default\", \"Topic1\", \"Topic1\", \"Topic1\", \"Topic1\", \"Topic1\", \"Topic1\", \"Topic1\", \"Topic1\", \"Topic1\", \"Topic1\", \"Topic1\", \"Topic1\", \"Topic1\", \"Topic1\", \"Topic1\", \"Topic1\", \"Topic1\", \"Topic1\", \"Topic1\", \"Topic1\", \"Topic1\", \"Topic1\", \"Topic1\", \"Topic1\", \"Topic1\", \"Topic1\", \"Topic1\", \"Topic1\", \"Topic1\", \"Topic1\", \"Topic1\", \"Topic1\", \"Topic1\", \"Topic1\", \"Topic1\", \"Topic1\", \"Topic1\", \"Topic1\", \"Topic1\", \"Topic1\", \"Topic1\", \"Topic1\", \"Topic1\", \"Topic1\", \"Topic1\", \"Topic1\", \"Topic1\", \"Topic1\", \"Topic1\", \"Topic1\", \"Topic1\", \"Topic1\", \"Topic1\", \"Topic1\", \"Topic1\", \"Topic1\", \"Topic1\", \"Topic1\", \"Topic1\", \"Topic1\", \"Topic1\", \"Topic1\", \"Topic1\", \"Topic1\", \"Topic1\", \"Topic1\", \"Topic1\", \"Topic1\", \"Topic1\", \"Topic2\", \"Topic2\", \"Topic2\", \"Topic2\", \"Topic2\", \"Topic2\", \"Topic2\", \"Topic2\", \"Topic2\", \"Topic2\", \"Topic2\", \"Topic2\", \"Topic2\", \"Topic2\", \"Topic2\", \"Topic2\", \"Topic2\", \"Topic2\", \"Topic2\", \"Topic2\", \"Topic2\", \"Topic2\", \"Topic2\", \"Topic2\", \"Topic2\", \"Topic2\", \"Topic2\", \"Topic2\", \"Topic2\", \"Topic2\", \"Topic2\", \"Topic2\", \"Topic2\", \"Topic2\", \"Topic2\", \"Topic2\", \"Topic2\", \"Topic2\", \"Topic2\", \"Topic2\", \"Topic2\", \"Topic2\", \"Topic2\", \"Topic2\", \"Topic2\", \"Topic2\", \"Topic2\", \"Topic2\", \"Topic2\", \"Topic2\", \"Topic2\", \"Topic2\", \"Topic2\", \"Topic2\", \"Topic2\", \"Topic2\", \"Topic2\", \"Topic2\", \"Topic2\", \"Topic2\", \"Topic2\", \"Topic2\", \"Topic2\", \"Topic2\", \"Topic3\", \"Topic3\", \"Topic3\", \"Topic3\", \"Topic3\", \"Topic3\", \"Topic3\", \"Topic3\", \"Topic3\", \"Topic3\", \"Topic3\", \"Topic3\", \"Topic3\", \"Topic3\", \"Topic3\", \"Topic3\", \"Topic3\", \"Topic3\", \"Topic3\", \"Topic3\", \"Topic3\", \"Topic3\", \"Topic3\", \"Topic3\", \"Topic3\", \"Topic3\", \"Topic3\", \"Topic3\", \"Topic3\", \"Topic3\", \"Topic3\", \"Topic3\", \"Topic3\", \"Topic3\", \"Topic3\", \"Topic3\", \"Topic3\", \"Topic3\", \"Topic3\", \"Topic3\", \"Topic3\", \"Topic3\", \"Topic3\", \"Topic3\", \"Topic3\", \"Topic3\", \"Topic3\", \"Topic3\", \"Topic3\", \"Topic3\", \"Topic3\", \"Topic3\", \"Topic3\", \"Topic3\", \"Topic3\", \"Topic3\", \"Topic3\", \"Topic3\", \"Topic3\", \"Topic3\", \"Topic3\", \"Topic3\", \"Topic3\", \"Topic3\", \"Topic3\", \"Topic3\", \"Topic3\", \"Topic3\", \"Topic4\", \"Topic4\", \"Topic4\", \"Topic4\", \"Topic4\", \"Topic4\", \"Topic4\", \"Topic4\", \"Topic4\", \"Topic4\", \"Topic4\", \"Topic4\", \"Topic4\", \"Topic4\", \"Topic4\", \"Topic4\", \"Topic4\", \"Topic4\", \"Topic4\", \"Topic4\", \"Topic4\", \"Topic4\", \"Topic4\", \"Topic4\", \"Topic4\", \"Topic4\", \"Topic4\", \"Topic4\", \"Topic4\", \"Topic4\", \"Topic4\", \"Topic4\", \"Topic4\", \"Topic4\", \"Topic4\", \"Topic4\", \"Topic4\", \"Topic4\", \"Topic4\", \"Topic4\", \"Topic4\", \"Topic4\", \"Topic4\", \"Topic4\", \"Topic4\", \"Topic4\", \"Topic4\", \"Topic4\", \"Topic4\", \"Topic4\", \"Topic4\", \"Topic4\", \"Topic4\", \"Topic4\", \"Topic4\", \"Topic4\", \"Topic4\", \"Topic4\", \"Topic4\", \"Topic4\", \"Topic4\", \"Topic4\", \"Topic4\", \"Topic4\", \"Topic4\", \"Topic4\", \"Topic4\", \"Topic4\", \"Topic4\", \"Topic5\", \"Topic5\", \"Topic5\", \"Topic5\", \"Topic5\", \"Topic5\", \"Topic5\", \"Topic5\", \"Topic5\", \"Topic5\", \"Topic5\", \"Topic5\", \"Topic5\", \"Topic5\", \"Topic5\", \"Topic5\", \"Topic5\", \"Topic5\", \"Topic5\", \"Topic5\", \"Topic5\", \"Topic5\", \"Topic5\", \"Topic5\", \"Topic5\", \"Topic5\", \"Topic5\", \"Topic5\", \"Topic5\", \"Topic5\", \"Topic5\", \"Topic5\", \"Topic5\", \"Topic5\", \"Topic5\", \"Topic5\", \"Topic5\", \"Topic5\", \"Topic5\", \"Topic5\", \"Topic5\", \"Topic5\", \"Topic5\", \"Topic5\", \"Topic5\", \"Topic5\", \"Topic5\", \"Topic5\", \"Topic5\", \"Topic5\", \"Topic5\", \"Topic5\", \"Topic5\", \"Topic5\", \"Topic5\", \"Topic5\", \"Topic5\", \"Topic5\", \"Topic5\", \"Topic5\", \"Topic5\", \"Topic5\", \"Topic5\", \"Topic5\", \"Topic5\", \"Topic5\", \"Topic5\", \"Topic5\", \"Topic6\", \"Topic6\", \"Topic6\", \"Topic6\", \"Topic6\", \"Topic6\", \"Topic6\", \"Topic6\", \"Topic6\", \"Topic6\", \"Topic6\", \"Topic6\", \"Topic6\", \"Topic6\", \"Topic6\", \"Topic6\", \"Topic6\", \"Topic6\", \"Topic6\", \"Topic6\", \"Topic6\", \"Topic6\", \"Topic6\", \"Topic6\", \"Topic6\", \"Topic6\", \"Topic6\", \"Topic6\", \"Topic6\", \"Topic6\", \"Topic6\", \"Topic6\", \"Topic6\", \"Topic6\", \"Topic6\", \"Topic6\", \"Topic6\", \"Topic6\", \"Topic6\", \"Topic6\", \"Topic6\", \"Topic6\", \"Topic6\", \"Topic6\", \"Topic6\", \"Topic6\", \"Topic6\", \"Topic6\", \"Topic6\", \"Topic6\", \"Topic6\", \"Topic6\", \"Topic6\", \"Topic6\", \"Topic6\", \"Topic6\", \"Topic6\", \"Topic6\", \"Topic6\", \"Topic6\", \"Topic6\", \"Topic6\", \"Topic6\", \"Topic6\", \"Topic6\", \"Topic6\", \"Topic7\", \"Topic7\", \"Topic7\", \"Topic7\", \"Topic7\", \"Topic7\", \"Topic7\", \"Topic7\", \"Topic7\", \"Topic7\", \"Topic7\", \"Topic7\", \"Topic7\", \"Topic7\", \"Topic7\", \"Topic7\", \"Topic7\", \"Topic7\", \"Topic7\", \"Topic7\", \"Topic7\", \"Topic7\", \"Topic7\", \"Topic7\", \"Topic7\", \"Topic7\", \"Topic7\", \"Topic7\", \"Topic7\", \"Topic7\", \"Topic7\", \"Topic7\", \"Topic7\", \"Topic7\", \"Topic7\", \"Topic7\", \"Topic7\", \"Topic7\", \"Topic7\", \"Topic7\", \"Topic7\", \"Topic7\", \"Topic7\", \"Topic7\", \"Topic7\", \"Topic7\", \"Topic7\", \"Topic7\", \"Topic7\", \"Topic7\", \"Topic7\", \"Topic7\", \"Topic7\", \"Topic7\", \"Topic7\", \"Topic7\", \"Topic7\", \"Topic7\", \"Topic7\", \"Topic7\", \"Topic7\", \"Topic7\", \"Topic7\", \"Topic7\", \"Topic7\", \"Topic7\", \"Topic8\", \"Topic8\", \"Topic8\", \"Topic8\", \"Topic8\", \"Topic8\", \"Topic8\", \"Topic8\", \"Topic8\", \"Topic8\", \"Topic8\", \"Topic8\", \"Topic8\", \"Topic8\", \"Topic8\", \"Topic8\", \"Topic8\", \"Topic8\", \"Topic8\", \"Topic8\", \"Topic8\", \"Topic8\", \"Topic8\", \"Topic8\", \"Topic8\", \"Topic8\", \"Topic8\", \"Topic8\", \"Topic8\", \"Topic8\", \"Topic8\", \"Topic8\", \"Topic8\", \"Topic8\", \"Topic8\", \"Topic8\", \"Topic8\", \"Topic8\", \"Topic8\", \"Topic8\", \"Topic8\", \"Topic8\", \"Topic8\", \"Topic8\", \"Topic8\", \"Topic8\", \"Topic8\", \"Topic8\", \"Topic8\", \"Topic8\", \"Topic8\", \"Topic8\", \"Topic8\", \"Topic8\", \"Topic8\", \"Topic8\", \"Topic8\", \"Topic8\", \"Topic8\", \"Topic8\", \"Topic8\", \"Topic8\", \"Topic8\", \"Topic8\", \"Topic8\", \"Topic8\", \"Topic8\", \"Topic8\", \"Topic8\", \"Topic9\", \"Topic9\", \"Topic9\", \"Topic9\", \"Topic9\", \"Topic9\", \"Topic9\", \"Topic9\", \"Topic9\", \"Topic9\", \"Topic9\", \"Topic9\", \"Topic9\", \"Topic9\", \"Topic9\", \"Topic9\", \"Topic9\", \"Topic9\", \"Topic9\", \"Topic9\", \"Topic9\", \"Topic9\", \"Topic9\", \"Topic9\", \"Topic9\", \"Topic9\", \"Topic9\", \"Topic9\", \"Topic9\", \"Topic9\", \"Topic9\", \"Topic9\", \"Topic9\", \"Topic9\", \"Topic9\", \"Topic9\", \"Topic9\", \"Topic9\", \"Topic9\", \"Topic9\", \"Topic9\", \"Topic9\", \"Topic9\", \"Topic9\", \"Topic9\", \"Topic9\", \"Topic9\", \"Topic9\", \"Topic9\", \"Topic9\", \"Topic9\", \"Topic9\", \"Topic9\", \"Topic9\", \"Topic9\", \"Topic9\", \"Topic9\", \"Topic9\", \"Topic9\", \"Topic9\", \"Topic9\", \"Topic9\", \"Topic9\", \"Topic9\", \"Topic9\", \"Topic9\", \"Topic9\", \"Topic9\", \"Topic10\", \"Topic10\", \"Topic10\", \"Topic10\", \"Topic10\", \"Topic10\", \"Topic10\", \"Topic10\", \"Topic10\", \"Topic10\", \"Topic10\", \"Topic10\", \"Topic10\", \"Topic10\", \"Topic10\", \"Topic10\", \"Topic10\", \"Topic10\", \"Topic10\", \"Topic10\", \"Topic10\", \"Topic10\", \"Topic10\", \"Topic10\", \"Topic10\", \"Topic10\", \"Topic10\", \"Topic10\", \"Topic10\", \"Topic10\", \"Topic10\", \"Topic10\", \"Topic10\", \"Topic10\", \"Topic10\", \"Topic10\", \"Topic10\", \"Topic10\", \"Topic10\", \"Topic10\", \"Topic10\", \"Topic10\", \"Topic10\", \"Topic10\", \"Topic10\", \"Topic10\", \"Topic10\", \"Topic10\", \"Topic10\", \"Topic10\", \"Topic10\", \"Topic10\", \"Topic10\", \"Topic10\", \"Topic10\", \"Topic10\", \"Topic10\", \"Topic10\", \"Topic10\", \"Topic10\", \"Topic10\", \"Topic10\", \"Topic10\", \"Topic10\", \"Topic10\", \"Topic10\"], \"Freq\": [1.0, 1.0, 1.0, 1.0, 0.0, 0.0, 1.0, 1.0, 0.0, 0.0, 0.0, 0.0, 0.0, 1.0, 0.0, 0.0, 0.0, 0.0, 0.0, 0.0, 0.0, 1.0, 1.0, 0.0, 0.0, 2.0, 0.0, 0.0, 0.0, 1.0, 0.23209255933761597, 0.24855798482894897, 0.25949642062187195, 0.18948909640312195, 0.1545831561088562, 0.2474725991487503, 0.16521626710891724, 0.1506168693304062, 0.1650737076997757, 0.21573130786418915, 0.14325106143951416, 0.16593419015407562, 0.14936766028404236, 0.235445037484169, 0.13592591881752014, 0.14328597486019135, 0.3703366816043854, 0.16736285388469696, 0.15463046729564667, 0.1294262558221817, 0.12222390621900558, 0.12148427218198776, 0.12148285657167435, 0.17700424790382385, 0.17010995745658875, 0.12714633345603943, 0.11826862394809723, 0.13176976144313812, 0.20003344118595123, 0.14743971824645996, 0.17564037442207336, 0.23395350575447083, 0.207713320851326, 0.4019758105278015, 0.2760859727859497, 0.1486038863658905, 0.47942402958869934, 0.5770218968391418, 0.7141586542129517, 0.3984662592411041, 0.2519392967224121, 0.642720103263855, 0.6490821242332458, 0.607560396194458, 0.5565377473831177, 0.349330335855484, 0.25760599970817566, 0.6506164073944092, 0.38536587357521057, 0.5649687647819519, 0.39090585708618164, 0.4586142897605896, 0.502091646194458, 0.4265032112598419, 0.5541837215423584, 0.37737658619880676, 0.45801329612731934, 0.4588855803012848, 0.49944013357162476, 0.42544201016426086, 0.4171653985977173, 0.3928624093532562, 0.4298059344291687, 0.4547693133354187, 0.40911224484443665, 0.4063672721385956, 0.41233089566230774, 0.40440869331359863, 0.39716845750808716, 0.1819690316915512, 0.0994030237197876, 0.11831510812044144, 0.09493733942508698, 0.10062159597873688, 0.09974011778831482, 0.091621033847332, 0.08875978738069534, 0.13849394023418427, 0.08373870700597763, 0.08227769285440445, 0.08128347992897034, 0.07944260537624359, 0.07944159209728241, 0.14373207092285156, 0.09672560542821884, 0.11636753380298615, 0.12762421369552612, 0.08389882743358612, 0.09038890153169632, 0.0868636891245842, 0.06606098264455795, 0.1341460794210434, 0.0643203929066658, 0.06431993842124939, 0.06431984901428223, 0.06425350904464722, 0.06403646618127823, 0.061938170343637466, 0.10466606914997101, 0.10433106124401093, 0.21954236924648285, 0.08389802277088165, 0.0885331779718399, 0.13935336470603943, 0.1596684604883194, 0.1849096715450287, 0.1630071997642517, 0.16879166662693024, 0.1823023110628128, 0.172137051820755, 0.15396973490715027, 0.14955300092697144, 0.239118754863739, 0.21216294169425964, 0.19765445590019226, 0.13947850465774536, 0.20566138625144958, 0.17595909535884857, 0.2005917727947235, 0.14985166490077972, 0.1847468912601471, 0.16185615956783295, 0.171404629945755, 0.17473556101322174, 0.16689829528331757, 0.16211342811584473, 0.1683335304260254, 0.15459686517715454, 0.15032152831554413, 0.14720414578914642, 0.14434939622879028, 0.14294470846652985, 0.1430559605360031, 0.268435001373291, 0.24305976927280426, 0.2832762598991394, 0.2014748603105545, 0.23060226440429688, 0.18812404572963715, 0.1566741168498993, 0.15089759230613708, 0.15089742839336395, 0.2440020591020584, 0.14646250009536743, 0.14213532209396362, 0.14213435351848602, 0.35169216990470886, 0.1301378756761551, 0.13788291811943054, 0.18477429449558258, 0.13002461194992065, 0.1394641250371933, 0.11600508540868759, 0.16276541352272034, 0.16808141767978668, 0.11292732506990433, 0.11164596676826477, 0.11763016134500504, 0.2213449329137802, 0.10930412262678146, 0.10325844585895538, 0.10462477058172226, 0.09794434159994125, 0.1486034244298935, 0.17765744030475616, 0.19739246368408203, 0.1740187406539917, 0.3917447030544281, 0.3442540168762207, 0.20779235661029816, 0.17073659598827362, 0.4274809658527374, 0.3231769800186157, 0.24668702483177185, 0.38708510994911194, 0.28853639960289, 0.3300970494747162, 0.2998926639556885, 0.3381199240684509, 0.3741615116596222, 0.39293017983436584, 0.3809605538845062, 0.29995134472846985, 0.3789140284061432, 0.3815018832683563, 0.3485167622566223, 0.3471788465976715, 0.32015788555145264, 0.35831043124198914, 0.39201390743255615, 0.36541393399238586, 0.3617033362388611, 0.32834988832473755, 0.3156774938106537, 0.32530903816223145, 0.3113762438297272, 0.3139816224575043, 0.3103504478931427, 0.3088577389717102, 0.3033769428730011, 0.304535835981369, 0.2551310658454895, 0.19142447412014008, 0.18958596885204315, 0.24729473888874054, 0.23027843236923218, 0.3333679735660553, 0.14334851503372192, 0.14249147474765778, 0.18214866518974304, 0.1333252191543579, 0.12918968498706818, 0.12288384139537811, 0.12288364768028259, 0.12288324534893036, 0.12288277596235275, 0.15548689663410187, 0.130463108420372, 0.13197122514247894, 0.14770929515361786, 0.11702706664800644, 0.1140023022890091, 0.11259761452674866, 0.12818282842636108, 0.11878345906734467, 0.14156679809093475, 0.14283569157123566, 0.16322295367717743, 0.11788438260555267, 0.11635681986808777, 0.10671079903841019, 0.21992123126983643, 0.2848196029663086, 0.2211286425590515, 0.35710638761520386, 0.23856531083583832, 0.2004384547472, 0.3681532144546509, 0.19415569305419922, 0.512589693069458, 0.5151393413543701, 0.16811878979206085, 0.5071249008178711, 0.24654217064380646, 0.3066349923610687, 0.5222253799438477, 0.267436683177948, 0.5390881299972534, 0.28209805488586426, 0.44984671473503113, 0.45468443632125854, 0.30316588282585144, 0.4570732116699219, 0.42207011580467224, 0.39446794986724854, 0.4323146641254425, 0.38953736424446106, 0.4065566956996918, 0.3259175717830658, 0.41474831104278564, 0.3317658305168152, 0.3230910003185272, 0.32539626955986023, 0.3164445161819458, 0.3142021596431732, 0.31125885248184204, 0.3074737787246704, 0.32691773772239685, 0.31359124183654785, 0.29897254705429077, 0.393349289894104, 0.36371293663978577, 0.3061680197715759, 0.25859811902046204, 0.23467367887496948, 0.3211979866027832, 0.23119190335273743, 0.2737056016921997, 0.21593359112739563, 0.22519980370998383, 0.528448760509491, 0.20173010230064392, 0.2469734102487564, 0.20065690577030182, 0.2004183828830719, 0.19544921815395355, 0.21109537780284882, 0.19385962188243866, 0.22966639697551727, 0.18494915962219238, 0.22094781696796417, 0.19736912846565247, 0.18459780514240265, 0.16851933300495148, 0.16763411462306976, 0.1757369339466095, 0.21676547825336456, 0.1592310667037964, 0.1590494066476822, 0.15587963163852692, 0.1864238977432251, 0.1978667974472046, 0.2328958660364151, 0.23096750676631927, 0.289753258228302, 0.8743250370025635, 0.6784164905548096, 0.6154278516769409, 0.3839040994644165, 0.5236961841583252, 0.4835548400878906, 0.48091018199920654, 0.4559234380722046, 0.6788175702095032, 0.45845043659210205, 0.46226561069488525, 0.6610937714576721, 0.6590750217437744, 0.7343091368675232, 0.6742464303970337, 0.6648755669593811, 0.47883954644203186, 0.5385775566101074, 0.5100512504577637, 0.5765357613563538, 0.5534159541130066, 0.6143060922622681, 0.6130833625793457, 0.4978761672973633, 0.5033433437347412, 0.4754934012889862, 0.5205832123756409, 0.48479267954826355, 0.5042247772216797, 0.5115955471992493, 0.4689175486564636, 0.46685510873794556, 0.4674117863178253, 0.17038936913013458, 0.12335332483053207, 0.17656077444553375, 0.09229735285043716, 0.0914953425526619, 0.12701307237148285, 0.12442703545093536, 0.07433504611253738, 0.07795708626508713, 0.10948110371828079, 0.08018800616264343, 0.09403831511735916, 0.06778749078512192, 0.06884458661079407, 0.06703532487154007, 0.06834244728088379, 0.05847403034567833, 0.05920041352510452, 0.06356863677501678, 0.07244136184453964, 0.053819846361875534, 0.053647372871637344, 0.05249115824699402, 0.051679275929927826, 0.051594190299510956, 0.06255844980478287, 0.050494853407144547, 0.050494853407144547, 0.07069113105535507, 0.0775977373123169, 0.1557188779115677, 0.07569193094968796, 0.06927080452442169, 0.09114851802587509, 0.09121139347553253, 0.11564645171165466, 0.10240455716848373, 0.16850636899471283, 0.08564017713069916, 0.09421274811029434, 0.1715427190065384, 0.21349753439426422, 0.1764097660779953, 0.2359914630651474, 0.1629778891801834, 0.17670734226703644, 0.18828824162483215, 0.17787103354930878, 0.18944865465164185, 0.19262349605560303, 0.1574096828699112, 0.19394917786121368, 0.19005949795246124, 0.1664738655090332, 0.156385138630867, 0.17149882018566132, 0.13278011977672577, 0.1409110575914383, 0.15825910866260529, 0.15759535133838654, 0.1458907276391983, 0.1356295347213745, 0.1335035115480423, 0.13568763434886932, 0.13514180481433868, 0.13369598984718323, 0.25518614053726196, 0.22876495122909546, 0.1711263805627823, 0.15860776603221893, 0.14779016375541687, 0.15861204266548157, 0.13123992085456848, 0.13001978397369385, 0.2200276255607605, 0.1390516459941864, 0.12484421581029892, 0.14302264153957367, 0.11532040685415268, 0.11800473183393478, 0.1068800613284111, 0.10687931627035141, 0.10312869399785995, 0.10163357108831406, 0.1341901421546936, 0.1193566545844078, 0.14807450771331787, 0.10414360463619232, 0.09790597856044769, 0.11756706237792969, 0.11756544560194016, 0.10894056409597397, 0.10240033268928528, 0.09792838990688324, 0.12035322934389114, 0.08833008259534836, 0.11315065622329712, 0.18231695890426636, 0.35621434450149536, 0.6486691236495972, 0.24255461990833282, 0.3325279951095581, 0.4251451790332794, 0.3095521926879883, 0.2893056273460388, 0.3724834620952606, 0.18260155618190765, 0.2143470197916031, 0.38273167610168457, 0.3993860185146332, 0.22430969774723053, 0.2739761173725128, 0.36525267362594604, 0.35859784483909607, 0.3313172459602356, 0.29463985562324524, 0.3132902681827545, 0.28118225932121277, 0.23743170499801636, 0.28131669759750366, 0.25642335414886475, 0.3120304346084595, 0.3071226477622986, 0.272211492061615, 0.2542104721069336, 0.2860569655895233, 0.28792524337768555, 0.28018927574157715, 0.2734746038913727, 0.25501373410224915, 0.244974747300148, 0.24557903409004211, 0.15046076476573944, 0.15946657955646515, 0.2089412659406662, 0.14338605105876923, 0.12896105647087097, 0.12191079556941986, 0.10982821881771088, 0.10803479701280594, 0.14631575345993042, 0.12173894047737122, 0.09199734777212143, 0.09172917902469635, 0.3278964161872864, 0.09983447939157486, 0.10004395246505737, 0.1860354095697403, 0.08687761425971985, 0.09011799842119217, 0.12239380925893784, 0.09470262378454208, 0.08390700817108154, 0.08110256493091583, 0.08080176264047623, 0.08080147206783295, 0.08449886739253998, 0.10107758641242981, 0.08410587161779404, 0.09243503957986832, 0.07901294529438019, 0.1291748583316803, 0.44112735986709595, 0.1318284124135971, 0.15032245218753815, 0.12452639639377594, 0.11296749114990234, 0.24366430938243866, 0.1566941738128662, 0.22830505669116974, 0.19871529936790466, 0.14598122239112854, 0.12777867913246155, 0.23193444311618805, 0.1534046232700348, 0.296470046043396, 0.17374642193317413, 0.2961761951446533, 0.30686259269714355, 0.18230889737606049, 0.3122972548007965, 0.31824618577957153, 0.2521092891693115, 0.2362271398305893, 0.2581098973751068, 0.23376281559467316, 0.24942545592784882, 0.2719574570655823, 0.21686136722564697, 0.2693692445755005, 0.2439502328634262, 0.2580299973487854, 0.25833559036254883, 0.25690698623657227, 0.22434839606285095, 0.22134019434452057, 0.2094784826040268, 0.22522848844528198, 0.21013475954532623, 0.20045769214630127, 0.2004488855600357, 0.7767813205718994, 0.13944591581821442, 0.19175668060779572, 0.27354195713996887, 0.1466297209262848, 0.09934207797050476, 0.11603992432355881, 0.11352356523275375, 0.10750871151685715, 0.08618660271167755, 0.10124955326318741, 0.1012297198176384, 0.103774294257164, 0.08194839954376221, 0.08093134313821793, 0.07785926014184952, 0.1283317357301712, 0.0714126005768776, 0.07109732180833817, 0.07030706852674484, 0.06881240755319595, 0.06881237775087357, 0.07185553759336472, 0.07274344563484192, 0.06594623625278473, 0.1055225282907486, 0.06983377784490585, 0.10326971858739853, 0.06355558335781097, 0.06888346374034882, 0.08523592352867126, 0.09015139192342758, 0.1480378657579422, 0.19679254293441772, 0.09791406244039536, 0.10468597710132599, 0.17513342201709747, 0.11212459206581116, 0.25074708461761475, 0.22117935121059418, 0.292148232460022, 0.3147379755973816, 0.15960201621055603, 0.28089919686317444, 0.22424086928367615, 0.169065922498703, 0.20991341769695282, 0.22759562730789185, 0.23882260918617249, 0.2761906683444977, 0.2580545246601105, 0.2193818986415863, 0.2129601389169693, 0.1997898519039154, 0.24230331182479858, 0.235450878739357, 0.1777637004852295, 0.21195556223392487, 0.1955510973930359, 0.22544929385185242, 0.21669423580169678, 0.20755650103092194, 0.20278213918209076, 0.17658069729804993, 0.18935135006904602, 0.18887093663215637, 0.18048717081546783, 0.1819239854812622, 0.1631826013326645, 0.1385507732629776, 0.14485573768615723, 0.13551321625709534, 0.12445458024740219, 0.2299979329109192, 0.12860140204429626, 0.11906114220619202, 0.20025044679641724, 0.11364228278398514, 0.3236362934112549, 0.1733381599187851, 0.11447206884622574, 0.08920390903949738, 0.0873279869556427, 0.087898850440979, 0.09474749118089676, 0.08416125923395157, 0.09378174692392349, 0.08243207633495331, 0.11885681748390198, 0.11885099858045578, 0.07945502549409866, 0.07945476472377777, 0.1198468953371048, 0.11266667395830154, 0.07665851712226868, 0.11005823314189911, 0.10562364757061005, 0.08038128167390823, 0.4463673532009125, 0.15104106068611145, 0.2388455867767334, 0.18175143003463745, 0.15928292274475098, 0.22650443017482758, 0.19539238512516022, 0.22159788012504578, 0.1972287893295288, 0.17834356427192688, 0.265413373708725, 0.3297259211540222, 0.17596851289272308, 0.32273656129837036, 0.22951705753803253, 0.29393044114112854, 0.285826176404953, 0.26022714376449585, 0.28472545742988586, 0.27942225337028503, 0.25551071763038635, 0.24537606537342072, 0.23367908596992493, 0.22809453308582306, 0.22235147655010223, 0.22088193893432617, 0.22222401201725006, 0.22886161506175995, 0.217649444937706, 0.2187282294034958, 0.21064217388629913, 0.22084848582744598, 0.2126309871673584, 0.20584319531917572, 0.20634667575359344, 0.20585602521896362], \"Term\": [\"Mai\", \"Stiftung\", \"Behinderung\", \"Vertriebene\", \"Ehrenamt\", \"Bundeswehr\", \"Antisemitismus\", \"Landwirtschaft\", \"Sparkasse\", \"\\u2011\", \"Ruhr\", \"Feuerwehr\", \"Protokoll\", \"Krankheit\", \"Genossenschaft\", \"Normenkontrollrat\", \"Roma\", \"Handwerk\", \"Iserlohn\", \"Sinti\", \"Bier\", \"Angeh\\u00f6rige\", \"messen\", \"Plenarprotokoll\", \"Sternsinger\", \"Familie\", \"Kienbaum\", \"Normenkontrollrats\", \"Provinz\", \"Vertreibung\", \"Ostseerates\", \"Deutschlandstiftung\", \"Literatur\", \"Gl\\u00fchbirne\", \"Schucht\", \"Reformation\", \"DESY\", \"Arbeitgeberpr\\u00e4sident\", \"Abendessen\", \"Nationalmannschaft\", \"Frauen-Fu\\u00dfball\", \"Asien-Pazifik-Region\", \"F\\u00fcrstner\", \"Wirtschaftsforum\", \"Energiequelle\", \"Buchmesse\", \"Sternsinger\", \"\\u00f6len\", \"Konzentrationslagers\", \"Kernfusion\", \"Afghanistan-Konferenz\", \"Kultursommernacht\", \"Natururlaub\", \"Erinnern\", \"Faszination\", \"Willkommensgru\\u00df\", \"Schachzug\", \"Parit\\u00e4t\", \"Architektur\", \"Professionalit\\u00e4t\", \"Kaeser\", \"Koordinierung\", \"Wirtschaftsdelegation\", \"W\\u00e4hrungsunion\", \"Vizepr\\u00e4sident\", \"Wirtschaftsforums\", \"messen\", \"Krise\", \"Frau\", \"Premierminister\", \"Aussteller\", \"Union\", \"Land\", \"Prozent\", \"Welt\", \"Kultur\", \"Delegation\", \"Jahr\", \"Mann\", \"Mensch\", \"Erfahrung\", \"Energie\", \"Wirtschaft\", \"Integration\", \"Unternehmen\", \"Nation\", \"Gesellschaft\", \"Entwicklung\", \"Frage\", \"Weg\", \"Wachstum\", \"Professor\", \"Euro\", \"Thema\", \"Pr\\u00e4sident\", \"zielen\", \"Bereich\", \"Freiheit\", \"Staat\", \"Ruhr\", \"B\\u00fcrgerstiftungen\", \"Generalinspekteur\", \"Schott\", \"Vers\\u00f6hnungsmesse\", \"Viessmann\", \"Millenniumserkl\\u00e4rung\", \"Vorweihnachtszeit\", \"Provinz\", \"Carl-Zeiss-Stiftung\", \"Immobilienwirtschaft\", \"Historikertag\", \"CO2-Minderungsziele\", \"W\\u00e4rmesektors\", \"Raumfahrt\", \"Bauwerk\", \"Investitionsbank\", \"Soldatinnen\", \"Videoschaltung\", \"Kathedrale\", \"Innovationspartnerschaft\", \"Sitte\", \"Gedenkst\\u00e4tte\", \"Chatbots\", \"Zukunftsberufe\", \"Ant\\u00f3nio\", \"Protektor\", \"Aggressivit\\u00e4t\", \"Imagine\", \"Bundesfreiwilligendienst\", \"Preistr\\u00e4gerinnen\", \"Angeh\\u00f6rige\", \"Einsatzorte\", \"Polizistin\", \"Familienunternehmen\", \"Kompetenz\", \"Vers\\u00f6hnung\", \"Vertreibung\", \"Einsatz\", \"Wettbewerb\", \"Marktwirtschaft\", \"Behinderung\", \"mauern\", \"Unternehmen\", \"Fl\\u00fcchtling\", \"Familie\", \"Soldat\", \"Union\", \"Geschichte\", \"Jahr\", \"St\\u00fcck\", \"Prozent\", \"Investition\", \"Freiheit\", \"Mensch\", \"Wirtschaft\", \"Euro\", \"Land\", \"Gesellschaft\", \"Milliarde\", \"Thema\", \"Frau\", \"Zusammenarbeit\", \"Bereich\", \"Plenarprotokoll\", \"Selsingen\", \"Bier\", \"Atlantik-Br\\u00fccke\", \"Ausdrucksformen\", \"Kentzler\", \"Technologieforum\", \"R\\u00fcckgabe\", \"Bronzezeit\", \"Helmholtz-Gemeinschaft\", \"Zweitzeugen\", \"Phillipp\", \"Mitstreiters\", \"Handwerk\", \"Fraunhofer\", \"Ausstellungser\\u00f6ffnung\", \"Forschungsgemeinschaft\", \"Todestages\", \"Fl\\u00fcchtlingskinder\", \"Drittm\\u00e4rkten\", \"Nachrichtendienste\", \"Bundesnetzagentur\", \"UN-Abkommen\", \"Geheimhaltung\", \"Seniorin\", \"Rentenversicherung\", \"Eucken\", \"Translation\", \"Volksaufstand\", \"Demonstrant\", \"Erkrankung\", \"Fraunhofer-Gesellschaft\", \"Staatsminister\", \"Gesundheitsforschung\", \"Wissenschaft\", \"Freihandelsabkommen\", \"Religionsfreiheit\", \"April\", \"Forschung\", \"Innovation\", \"Krankheit\", \"zielen\", \"Standard\", \"Professor\", \"Abkomme\", \"Zukunft\", \"Frau\", \"Mensch\", \"Thema\", \"Beitrag\", \"Frage\", \"Land\", \"Welt\", \"Bereich\", \"Beispiel\", \"Prozent\", \"Jahr\", \"Unternehmen\", \"Union\", \"Gesellschaft\", \"Herausforderung\", \"Entwicklung\", \"Kind\", \"Euro\", \"Staat\", \"Freiheit\", \"Digitalisierung\", \"Wirtschaft\", \"Br\\u00fcgge\", \"Nehru-Preis\", \"Salzwedel\", \"Fahrrad\", \"Welle\", \"Sparkasse\", \"Sch\\u00f6llgen\", \"Examensarbeit\", \"Bundespolizei\", \"Wohlfahrtspflege\", \"Roche\", \"Exportkraft\", \"Wettbewerbsf\\u00e4higkeitsproblem\", \"Schuldenproblems\", \"Schuldenproblem\", \"Verkehrsprojekt\", \"Gehorsam\", \"Lorbeere\", \"L\\u00f6scher\", \"Freisein\", \"Aussteiger\", \"SOS-Kinderd\\u00f6rfer\", \"decken\", \"Regierende\", \"Behinderte\", \"Gesamtkunstwerk\", \"Konfliktl\\u00f6sung\", \"Di\\u00f6zese\", \"Bundespolizisten\", \"Sozialpreis\", \"F\\u00fchrungspositionen\", \"Ehrenamt\", \"Majest\\u00e4t\", \"Behinderung\", \"Zust\\u00e4ndigkeit\", \"Inklusion\", \"Leute\", \"Verdun\", \"Kind\", \"Familie\", \"Schengen-Raum\", \"Freiheit\", \"Geburtstag\", \"Banken\", \"Mensch\", \"Berufsausbildung\", \"Jahr\", \"Solidarit\\u00e4t\", \"Thema\", \"Frage\", \"Ministerpr\\u00e4sident\", \"Land\", \"Frau\", \"Euro\", \"Prozent\", \"Gesellschaft\", \"Welt\", \"Wettbewerbsf\\u00e4higkeit\", \"Unternehmen\", \"Beispiel\", \"Geschichte\", \"Seite\", \"Sicherheit\", \"Leben\", \"Zeit\", \"Krise\", \"Union\", \"Bereich\", \"Politik\", \"Kienbaum\", \"Weltordnung\", \"Rundfunk\", \"Turnen\", \"That\", \"Bundesstiftung\", \"Chemiestandort\", \"startsocial-Sonderpreis\", \"Turnfieber\", \"b\\u00e4umen\", \"Januar\", \"Ausstellungsst\\u00fccke\", \"Ruhrgebiet\", \"Turnbewegung\", \"Friedenspreis\", \"Kulturhauptstadt\", \"Halter\", \"Landkreistags\", \"Naturschutz\", \"for\", \"Landfrauen\", \"Lampe\", \"Parlamentswahlen\", \"Menschenordnung\", \"M100\", \"Landkreise\", \"Klinik\", \"Leistungssport\", \"Landkreistag\", \"Turnstadt\", \"kreuzen\", \"Weltmeisterschaft\", \"Wettkampf\", \"Gesundheitswesen\", \"IT-Gipfel\", \"Fl\\u00fcchtling\", \"Friede\", \"Nachhaltigkeit\", \"Rohstoff\", \"b\\u00fcrgern\", \"Ort\", \"B\\u00fcrgerin\", \"Organisation\", \"Freiheit\", \"Stiftung\", \"Kommune\", \"Thema\", \"Frage\", \"Jahr\", \"Land\", \"Union\", \"erfolgen\", \"Energie\", \"Verantwortung\", \"Wirtschaft\", \"Staat\", \"Mensch\", \"Unternehmen\", \"Million\", \"Digitalisierung\", \"Bund\", \"Bereich\", \"Seite\", \"Entwicklung\", \"Prozent\", \"Zukunft\", \"Wachstum\", \"Welt\", \"Feuerwehr\", \"Templin\", \"Protokoll\", \"Kamenz\", \"Krisenmechanismus\", \"Roma\", \"Sinti\", \"Familiengipfel\", \"Westbindung\", \"Knappschaft\", \"Taufe\", \"tr\\u00e4umen\", \"Universit\\u00e4tsmedizin\", \"Zukunftscharta\", \"Compact-with-Africa-L\\u00e4ndern\", \"KZ\", \"Ihrke\", \"Uckermark\", \"Reformpartnerschaften\", \"Visa\", \"Senegal\", \"Ausbildungsvertr\\u00e4ge\", \"Wohnwagen\", \"Iwakura-Mission\", \"Unternehmensvertretern\", \"Nord-Ostsee-Kanal\", \"C_DAT\", \"Absorption\", \"Leitwort\", \"Millenniumsentwicklungsziele\", \"Ehrenamt\", \"Arbeitsorganisation\", \"KZ-Gedenkst\\u00e4tte\", \"\\u2011\", \"Sozialpartnerschaft\", \"Studierende\", \"Handelskammer\", \"Jugend\", \"Kardinal\", \"Flugzeug\", \"Universit\\u00e4t\", \"Familie\", \"Vertrauen\", \"Unternehmen\", \"Wissenschaft\", \"Investition\", \"Gesellschaft\", \"Forschung\", \"Bereich\", \"Thema\", \"Professor\", \"Frage\", \"Jahr\", \"Wirtschaft\", \"Energie\", \"Land\", \"Abkomme\", \"Bund\", \"Mensch\", \"Union\", \"Prozent\", \"Seite\", \"Million\", \"Staat\", \"Entwicklung\", \"Beispiel\", \"Iserlohn\", \"Mongolei\", \"Verlagshaus\", \"Merkel\", \"German\", \"Ostausschuss\", \"G\\u00fctersloher\", \"Pandab\\u00e4ren\", \"Synagoge\", \"Werteorientierung\", \"Zollverein\", \"EU-Osterweiterung\", \"Immendingen\", \"Sozialgeschichte\", \"orgeln\", \"Walcker-Orgeln\", \"Belgier\", \"Biskup\", \"Medienkompetenz\", \"Festveranstaltung\", \"Flu\\u00df\", \"Sporthilfe\", \"Gedicht\", \"Athletin\", \"Athlet\", \"Zukunftsinvestition\", \"Verkehrssysteme\", \"Personalpolitik\", \"Raumfahrtindustrie\", \"Zwingers\", \"Weltkulturerbe\", \"Zentralbank\", \"messen\", \"Jahr\", \"Euroraum\", \"Industrie\", \"Frau\", \"Kooperation\", \"Mann\", \"Bereich\", \"Aussteller\", \"Automobilindustrie\", \"Prozent\", \"Unternehmen\", \"Bundeskanzlerin\", \"dingen\", \"Union\", \"Frage\", \"Wirtschaft\", \"Krise\", \"Euro\", \"Milliarde\", \"Freihandelsabkommen\", \"Kind\", \"Interesse\", \"Land\", \"Mensch\", \"Herausforderung\", \"Situation\", \"Freiheit\", \"Thema\", \"Welt\", \"Entwicklung\", \"Investition\", \"Stadt\", \"Wachstum\", \"Marke\", \"Warentest\", \"\\u2011\", \"Gesundheitswirtschaft\", \"Anti-Defamation\", \"Takeda\", \"Kulturstiftung\", \"Leitungsstrang\", \"Rutte\", \"Elektroindustrie\", \"Franckeschen\", \"Seidenstra\\u00dfen-Initiative\", \"Antisemitismus\", \"Solingen\", \"Mohammed-Karikaturen\", \"Mark\", \"Brandanschlag\", \"Enquetekommission\", \"Denkmal\", \"Medienpreises\", \"Entdeckungsreise\", \"Landesmuseum\", \"Galizia\", \"Daphne\", \"R\\u00fcstungskontrolle\", \"Diversifizierung\", \"Kennziffer\", \"Werkstoffen\", \"Kagame\", \"Roma\", \"Stiftung\", \"Ozean\", \"Metall\", \"Sinti\", \"Klugheit\", \"Gewerkschaft\", \"Zeitung\", \"Vertriebene\", \"Jude\", \"Vorurteil\", \"sonnen\", \"Premierminister\", \"IG\", \"Digitalisierung\", \"Regierungskonsultationen\", \"Bereich\", \"Thema\", \"Arbeitnehmerinnen\", \"Unternehmen\", \"Jahr\", \"Forschung\", \"Zusammenarbeit\", \"Wirtschaft\", \"Bundesregierung\", \"Staat\", \"Mensch\", \"Vertrauen\", \"Land\", \"Entwicklung\", \"Prozent\", \"Frage\", \"Union\", \"Investition\", \"Seite\", \"Nachhaltigkeit\", \"Welt\", \"Pr\\u00e4sident\", \"Partnerschaft\", \"Zukunft\", \"Mai\", \"DDR-Ministerpr\\u00e4sidenten\", \"Genossenschaft\", \"Bundeswehr\", \"Orden\", \"Freiheitsmedaille\", \"Humboldt-Stiftung\", \"Kinderarbeit\", \"Lager\", \"Leo-Baeck-Institut\", \"Airbus\", \"Neuausrichtung\", \"Erinnerungskultur\", \"Versicherungsmodellen\", \"Auslandsnachrichtendienst\", \"\\u00dcbersee-Clubs\", \"Ehrung\", \"Humboldtianer\", \"A320\", \"Nebensache\", \"Endrunde\", \"Hauptsponsoren\", \"B.\", \"Billen\", \"\\u00dcbersee-Club\", \"feiern\", \"Kriegsf\\u00fchrung\", \"Ordnungsrahmen\", \"Leo-Baeck-Medaille\", \"Forschungsstandorte\", \"Kathedrale\", \"Direktor\", \"Tourismus\", \"Akademie\", \"F\\u00f6rderer\", \"Segen\", \"Elektromobilit\\u00e4t\", \"\\u00dcberlebenden\", \"Wachstum\", \"Beziehung\", \"Frau\", \"Union\", \"gl\\u00fccken\", \"Freiheit\", \"Friede\", \"Minister\", \"Projekt\", \"Kind\", \"Welt\", \"Jahr\", \"Land\", \"Familie\", \"Pr\\u00e4sident\", \"Nachhaltigkeit\", \"Mensch\", \"Frage\", \"Konflikt\", \"Staat\", \"Sicherheit\", \"Unternehmen\", \"Prozent\", \"Bereich\", \"Thema\", \"Globalisierung\", \"Euro\", \"Entwicklung\", \"Geschichte\", \"Wirtschaft\", \"V.\", \"DFB-Bundestag\", \"Gentechnologie\", \"Sachverst\\u00e4ndigenrat\", \"Laudatoren\", \"Normenkontrollrat\", \"Ost-Ausschuss\", \"Medientage\", \"Normenkontrollrats\", \"Porta\", \"Landwirtschaft\", \"Landwirt\", \"Gr\\u00f6he\", \"Ost-Ausschusses\", \"Einwanderungsgesellschaft\", \"Saarl\\u00e4nder\", \"Lebenslagen\", \"Ehrenzeichen\", \"Tierhaltung\", \"Gedenkm\\u00fcnzen\", \"Bundesvereinigung\", \"Arbeitgeberverb\\u00e4nde\", \"Viereck\", \"Sachverst\\u00e4ndigenrates\", \"Spannungsverh\\u00e4ltnis\", \"Konstellation\", \"Bleib\", \"Agrarpolitik\", \"Weitblick\", \"Zugeh\\u00f6rigkeit\", \"Mai\", \"Verdun\", \"Krankheit\", \"vertragen\", \"Pakt\", \"Migration\", \"Vertriebene\", \"Freundschaft\", \"Gesundheit\", \"danken\", \"Integration\", \"Land\", \"Vertreibung\", \"Jahr\", \"Problem\", \"Unternehmen\", \"Frage\", \"Fl\\u00fcchtling\", \"Mensch\", \"Union\", \"Wirtschaft\", \"Staat\", \"Herausforderung\", \"Pr\\u00e4sident\", \"Zusammenarbeit\", \"Investition\", \"Weg\", \"Entwicklung\", \"Bundesregierung\", \"zielen\", \"Nachhaltigkeit\", \"Prozent\", \"Welt\", \"Arbeit\", \"Gesellschaft\", \"Thema\"], \"Total\": [1.0, 1.0, 1.0, 1.0, 0.0, 0.0, 1.0, 1.0, 0.0, 0.0, 0.0, 0.0, 0.0, 1.0, 0.0, 0.0, 0.0, 0.0, 0.0, 0.0, 0.0, 1.0, 1.0, 0.0, 0.0, 2.0, 0.0, 0.0, 0.0, 1.0, 0.4329162836074829, 0.46538183093070984, 0.5215379595756531, 0.39031338691711426, 0.35540565848350525, 0.571029543876648, 0.3835969567298889, 0.35143914818763733, 0.3905235528945923, 0.513828456401825, 0.3440745174884796, 0.40028679370880127, 0.36705297231674194, 0.6019338965415955, 0.3488697409629822, 0.3679097890853882, 0.9509363770484924, 0.43004849553108215, 0.4018727242946625, 0.3403339684009552, 0.3230457007884979, 0.3223072588443756, 0.3223068118095398, 0.4705546498298645, 0.4585551917552948, 0.3427468538284302, 0.31909090280532837, 0.36063462495803833, 0.5479124784469604, 0.4054839015007019, 0.484235942363739, 0.6582227349281311, 0.5896146297454834, 1.224454641342163, 0.8130006790161133, 0.4105815291404724, 1.8205928802490234, 2.3352949619293213, 3.137089967727661, 1.5052083730697632, 0.849968671798706, 3.575793743133545, 3.6709160804748535, 3.318723201751709, 2.9940648078918457, 1.4346729516983032, 0.8809961080551147, 4.272521495819092, 1.7820883989334106, 3.533534049987793, 1.8636149168014526, 2.537302255630493, 3.000685214996338, 2.228147029876709, 3.6536028385162354, 1.794144630432129, 2.7129039764404297, 2.763490915298462, 3.453498601913452, 2.4074440002441406, 2.3164994716644287, 2.0797502994537354, 2.74198579788208, 3.289924144744873, 2.400116205215454, 2.4445788860321045, 2.998638391494751, 3.0777292251586914, 2.774282932281494, 0.408814400434494, 0.3146214783191681, 0.3826506733894348, 0.31015506386756897, 0.3293303847312927, 0.32684004306793213, 0.3068395256996155, 0.3039790987968445, 0.475391685962677, 0.29895633459091187, 0.2974952757358551, 0.2965008318424225, 0.2946644425392151, 0.29466477036476135, 0.5416393280029297, 0.3675801455974579, 0.4460531175136566, 0.5136882662773132, 0.342440664768219, 0.37255018949508667, 0.36148717999458313, 0.2812778353691101, 0.5716147422790527, 0.2795388400554657, 0.2795390188694, 0.2795390486717224, 0.2794705927371979, 0.2792538106441498, 0.2771556079387665, 0.46979159116744995, 0.48886966705322266, 1.1135616302490234, 0.3857634663581848, 0.42087894678115845, 0.7614417672157288, 0.9596235752105713, 1.2149691581726074, 1.1237460374832153, 1.3643532991409302, 1.7426466941833496, 1.589802622795105, 1.269951343536377, 1.2207388877868652, 3.6536028385162354, 2.8194198608398438, 2.573265314102173, 1.1982711553573608, 3.575793743133545, 2.313666820526123, 4.272521495819092, 1.5886443853378296, 3.318723201751709, 2.2723639011383057, 3.0777292251586914, 3.533534049987793, 3.000685214996338, 2.74198579788208, 3.6709160804748535, 2.7129039764404297, 2.372920036315918, 3.289924144744873, 3.137089967727661, 2.310427665710449, 2.998638391494751, 0.47545504570007324, 0.45006099343299866, 0.5304504036903381, 0.4084339737892151, 0.4676380753517151, 0.3950835168361664, 0.36363327503204346, 0.3578665256500244, 0.3578667938709259, 0.5819404721260071, 0.3534237742424011, 0.3490990400314331, 0.3490993082523346, 0.9021726250648499, 0.3370956778526306, 0.35940277576446533, 0.4827621877193451, 0.3473939001560211, 0.37674832344055176, 0.322964072227478, 0.456661581993103, 0.4752597510814667, 0.3198857009410858, 0.318603515625, 0.34275445342063904, 0.6532337665557861, 0.32407674193382263, 0.31021568179130554, 0.32513266801834106, 0.3049015998840332, 0.46484658122062683, 0.5583245754241943, 0.6732037663459778, 0.597995936870575, 1.8909579515457153, 1.5947636365890503, 0.7762461304664612, 0.5851174592971802, 2.4992213249206543, 1.6332327127456665, 1.0814385414123535, 2.4445788860321045, 1.482714056968689, 2.0797502994537354, 1.7318059206008911, 2.4898011684417725, 3.137089967727661, 3.533534049987793, 3.289924144744873, 1.9397192001342773, 3.453498601913452, 3.6709160804748535, 2.9940648078918457, 2.998638391494751, 2.4321630001068115, 3.318723201751709, 4.272521495819092, 3.6536028385162354, 3.575793743133545, 2.7129039764404297, 2.4275834560394287, 2.763490915298462, 2.5498335361480713, 2.74198579788208, 2.774282932281494, 3.0777292251586914, 2.413416862487793, 3.000685214996338, 0.4765044152736664, 0.39723601937294006, 0.41038963198661804, 0.5526346564292908, 0.5567367672920227, 0.8069613575935364, 0.3491503894329071, 0.3482944965362549, 0.45019635558128357, 0.3391261398792267, 0.3349906802177429, 0.3286883234977722, 0.3286881744861603, 0.32868826389312744, 0.32868823409080505, 0.4201638102531433, 0.3528774380683899, 0.3577730655670166, 0.4070962369441986, 0.3228283226490021, 0.3198035657405853, 0.31839868426322937, 0.3640992045402527, 0.33811551332473755, 0.4031674861907959, 0.4070444107055664, 0.4678115248680115, 0.34174826741218567, 0.34015652537345886, 0.3125113248825073, 0.6465278267860413, 0.8615332245826721, 0.6836825013160706, 1.269951343536377, 0.7846162915229797, 0.6477477550506592, 1.4205642938613892, 0.630587637424469, 2.5498335361480713, 2.573265314102173, 0.528112530708313, 3.0777292251586914, 0.99782395362854, 1.4367544651031494, 3.533534049987793, 1.1967577934265137, 4.272521495819092, 1.3579353094100952, 3.289924144744873, 3.453498601913452, 1.601786494255066, 3.6709160804748535, 3.137089967727661, 2.74198579788208, 3.318723201751709, 2.7129039764404297, 2.9940648078918457, 1.9133557081222534, 3.6536028385162354, 2.4321630001068115, 2.313666820526123, 2.3910446166992188, 2.217982769012451, 2.228949546813965, 2.2133383750915527, 2.3352949619293213, 3.575793743133545, 2.998638391494751, 2.086655378341675, 0.6844519376754761, 0.6334905624389648, 0.5419488549232483, 0.47232452034950256, 0.4306769371032715, 0.591402530670166, 0.4273601174354553, 0.520585834980011, 0.4119332730770111, 0.43563416600227356, 1.0415395498275757, 0.3977293074131012, 0.48785364627838135, 0.3966551125049591, 0.3964146077632904, 0.39144858717918396, 0.42395445704460144, 0.3898569941520691, 0.4645613729953766, 0.3809492588043213, 0.46472686529159546, 0.4217045307159424, 0.39519309997558594, 0.36451634764671326, 0.3636300563812256, 0.38610702753067017, 0.48337915539741516, 0.35522717237472534, 0.3550444543361664, 0.35187700390815735, 0.42212310433387756, 0.448769748210907, 0.541504442691803, 0.5402809381484985, 0.7043236494064331, 2.8194198608398438, 2.2955925464630127, 2.0645558834075928, 1.0928974151611328, 1.8440552949905396, 1.7285422086715698, 1.7380399703979492, 1.5990933179855347, 3.0777292251586914, 1.6886250972747803, 1.7311307191848755, 3.289924144744873, 3.453498601913452, 4.272521495819092, 3.6709160804748535, 3.575793743133545, 1.9555079936981201, 2.537302255630493, 2.2944653034210205, 3.000685214996338, 2.774282932281494, 3.533534049987793, 3.6536028385162354, 2.3289661407470703, 2.413416862487793, 2.11686372756958, 2.998638391494751, 2.3910446166992188, 2.763490915298462, 3.318723201751709, 2.4898011684417725, 2.3164994716644287, 2.9940648078918457, 0.4779832661151886, 0.35408836603164673, 0.5473653674125671, 0.3234417140483856, 0.3239300549030304, 0.4770771861076355, 0.47078201174736023, 0.2905634045600891, 0.3066980242729187, 0.4312625229358673, 0.3332267999649048, 0.3915356993675232, 0.2946310341358185, 0.3058728575706482, 0.30942049622535706, 0.31673815846443176, 0.2747020721435547, 0.2845626473426819, 0.3103254735469818, 0.3606654405593872, 0.2700481712818146, 0.26987630128860474, 0.26871827244758606, 0.2679064869880676, 0.26782211661338806, 0.3276163637638092, 0.2667222023010254, 0.2667222321033478, 0.37436217069625854, 0.4122767448425293, 0.8615332245826721, 0.4132053852081299, 0.3815491199493408, 0.5403792262077332, 0.5464215278625488, 0.791431188583374, 0.6681397557258606, 1.3744597434997559, 0.5270140171051025, 0.6150171160697937, 1.6794687509536743, 2.573265314102173, 1.9431111812591553, 3.6536028385162354, 1.8909579515457153, 2.2723639011383057, 2.7129039764404297, 2.4992213249206543, 2.998638391494751, 3.289924144744873, 2.0797502994537354, 3.453498601913452, 4.272521495819092, 3.000685214996338, 2.537302255630493, 3.6709160804748535, 1.7318059206008911, 2.11686372756958, 3.533534049987793, 3.575793743133545, 3.318723201751709, 2.3910446166992188, 2.3289661407470703, 2.774282932281494, 2.763490915298462, 2.4321630001068115, 0.4638201594352722, 0.5056809186935425, 0.379694402217865, 0.38017767667770386, 0.3563518822193146, 0.38415655493736267, 0.3398077189922333, 0.3418290317058563, 0.6018848419189453, 0.3827569782733917, 0.3449336588382721, 0.39698779582977295, 0.32388055324554443, 0.34146398305892944, 0.31544211506843567, 0.31544214487075806, 0.3116892874240875, 0.3101930320262909, 0.41171255707740784, 0.3663770258426666, 0.45525988936424255, 0.33431631326675415, 0.31619250774383545, 0.3850724399089813, 0.38513877987861633, 0.3594866991043091, 0.3390590250492096, 0.3262355625629425, 0.4026656448841095, 0.29689013957977295, 0.3880847692489624, 0.7239485383033752, 1.8205928802490234, 4.272521495819092, 1.1791540384292603, 2.078265905380249, 3.137089967727661, 1.912571668624878, 1.7820883989334106, 2.998638391494751, 0.849968671798706, 1.1465164422988892, 3.318723201751709, 3.6536028385162354, 1.2835326194763184, 1.9607923030853271, 3.575793743133545, 3.453498601913452, 3.000685214996338, 2.3352949619293213, 2.74198579788208, 2.372920036315918, 1.5947636365890503, 2.5498335361480713, 2.0140581130981445, 3.6709160804748535, 3.533534049987793, 2.4275834560394287, 2.0011301040649414, 3.0777292251586914, 3.289924144744873, 2.9940648078918457, 2.763490915298462, 2.2723639011383057, 1.9215233325958252, 2.3164994716644287, 0.3615453839302063, 0.39030006527900696, 0.5403792262077332, 0.3710029125213623, 0.3400459289550781, 0.33299481868743896, 0.32091185450553894, 0.3191191256046295, 0.44230467081069946, 0.3828919529914856, 0.30308234691619873, 0.3028123378753662, 1.0829318761825562, 0.3304728865623474, 0.3387777805328369, 0.6352564096450806, 0.29796072840690613, 0.3092116117477417, 0.422945111989975, 0.3325865566730499, 0.2949896454811096, 0.29218539595603943, 0.2918848395347595, 0.2918848395347595, 0.30565908551216125, 0.3662649393081665, 0.30566829442977905, 0.33913400769233704, 0.2900959551334381, 0.4770771861076355, 1.6886250972747803, 0.4910152554512024, 0.5681458711624146, 0.47078201174736023, 0.4256008565425873, 1.1970239877700806, 0.6803849339485168, 1.133318305015564, 0.9840341806411743, 0.6375133395195007, 0.5462555289268494, 1.5052083730697632, 0.7456910610198975, 2.413416862487793, 0.932074248790741, 2.998638391494751, 3.289924144744873, 1.1487020254135132, 3.6536028385162354, 4.272521495819092, 2.4992213249206543, 2.310427665710449, 3.000685214996338, 2.3002960681915283, 2.774282932281494, 3.533534049987793, 1.9431111812591553, 3.6709160804748535, 2.763490915298462, 3.318723201751709, 3.453498601913452, 3.575793743133545, 2.2723639011383057, 2.3910446166992188, 2.0645558834075928, 2.9940648078918457, 2.400116205215454, 1.7903759479522705, 2.4898011684417725, 1.8174372911453247, 0.35293450951576233, 0.5175990462303162, 0.7858643531799316, 0.45080840587615967, 0.3128153085708618, 0.3695860803127289, 0.3769487142562866, 0.36601370573043823, 0.29965823888778687, 0.3600280284881592, 0.36327221989631653, 0.3739033341407776, 0.2954227924346924, 0.29440242052078247, 0.29133012890815735, 0.4871591329574585, 0.2848835289478302, 0.28456932306289673, 0.28378140926361084, 0.28228431940078735, 0.2822842597961426, 0.30055227875709534, 0.30633169412612915, 0.2794167697429657, 0.44920793175697327, 0.3020729720592499, 0.447737455368042, 0.2770266532897949, 0.30099135637283325, 0.37255018949508667, 0.39760756492614746, 0.6725189089775085, 0.9348803758621216, 0.4446119964122772, 0.5179995894432068, 1.1628668308258057, 0.602673351764679, 2.3164994716644287, 1.9221640825271606, 3.137089967727661, 3.575793743133545, 1.1207778453826904, 3.0777292251586914, 2.2955925464630127, 1.3321654796600342, 2.06343412399292, 2.5498335361480713, 2.9940648078918457, 4.272521495819092, 3.6709160804748535, 2.573265314102173, 2.400116205215454, 2.0645558834075928, 3.533534049987793, 3.453498601913452, 1.5819528102874756, 2.774282932281494, 2.217982769012451, 3.6536028385162354, 3.318723201751709, 2.998638391494751, 3.289924144744873, 1.6483668088912964, 2.74198579788208, 2.763490915298462, 2.313666820526123, 3.000685214996338, 0.37495851516723633, 0.35031479597091675, 0.38063979148864746, 0.35819846391677856, 0.33620893955230713, 0.6319217681884766, 0.35595381259918213, 0.3308142423629761, 0.5708038806915283, 0.32539719343185425, 1.044772744178772, 0.5717949271202087, 0.38173142075538635, 0.30095696449279785, 0.29908183217048645, 0.30349552631378174, 0.32751527428627014, 0.2959139943122864, 0.3346841335296631, 0.2941861152648926, 0.4273250699043274, 0.4330635368824005, 0.29120704531669617, 0.29120707511901855, 0.43996161222457886, 0.4176039397716522, 0.2884116768836975, 0.4167443513870239, 0.40240371227264404, 0.3096347749233246, 1.8174372911453247, 0.630587637424469, 1.0814385414123535, 0.825253427028656, 0.7323829531669617, 1.3496562242507935, 1.133318305015564, 1.4296432733535767, 1.2053111791610718, 1.0169988870620728, 2.228147029876709, 3.6709160804748535, 1.1237460374832153, 4.272521495819092, 2.006535530090332, 3.6536028385162354, 3.453498601913452, 2.8194198608398438, 3.533534049987793, 3.575793743133545, 3.000685214996338, 2.774282932281494, 2.4275834560394287, 2.400116205215454, 2.310427665710449, 2.2723639011383057, 2.4074440002441406, 2.763490915298462, 2.3002960681915283, 2.4445788860321045, 2.0645558834075928, 3.318723201751709, 2.9940648078918457, 2.263868570327759, 2.7129039764404297, 3.289924144744873], \"loglift\": [30.0, 29.0, 28.0, 27.0, 26.0, 25.0, 24.0, 23.0, 22.0, 21.0, 20.0, 19.0, 18.0, 17.0, 16.0, 15.0, 14.0, 13.0, 12.0, 11.0, 10.0, 9.0, 8.0, 7.0, 6.0, 5.0, 4.0, 3.0, 2.0, 1.0, 1.3507000207901, 1.3468999862670898, 1.2761000394821167, 1.2515000104904175, 1.1416000127792358, 1.1380000114440918, 1.1318000555038452, 1.1267999410629272, 1.1130000352859497, 1.1061999797821045, 1.0978000164031982, 1.093500018119812, 1.0750000476837158, 1.0354000329971313, 1.031499981880188, 1.0311000347137451, 1.0311000347137451, 1.030400037765503, 1.0190000534057617, 1.0073000192642212, 1.0022000074386597, 0.9983999729156494, 0.9983999729156494, 0.996399998664856, 0.9825000166893005, 0.9824000000953674, 0.9815999865531921, 0.9672999978065491, 0.9664999842643738, 0.9624000191688538, 0.9599999785423279, 0.9397000074386597, 0.9308000206947327, 0.8601999878883362, 0.89410001039505, 0.9577999711036682, 0.6398000121116638, 0.5760999917984009, 0.4941999912261963, 0.6449999809265137, 0.7580999732017517, 0.2578999996185303, 0.24150000512599945, 0.27619999647140503, 0.2913999855518341, 0.5613999962806702, 0.7444999814033508, 0.09210000187158585, 0.44279998540878296, 0.14079999923706055, 0.4122999906539917, 0.26350000500679016, 0.18629999458789825, 0.3208000063896179, 0.08810000121593475, 0.41510000824928284, 0.19519999623298645, 0.17870000004768372, 0.04039999842643738, 0.24089999496936798, 0.259799987077713, 0.3075999915599823, 0.12099999934434891, -0.004699999932199717, 0.20479999482631683, 0.17970000207424164, -0.009999999776482582, -0.055399999022483826, 0.030300000682473183, 1.8914999961853027, 1.548699975013733, 1.5271999835968018, 1.5170999765396118, 1.5152000188827515, 1.5140000581741333, 1.492300033569336, 1.4699000120162964, 1.4675999879837036, 1.4283000230789185, 1.4155999422073364, 1.4068000316619873, 1.3901000022888184, 1.3901000022888184, 1.3743000030517578, 1.3659000396728516, 1.357200026512146, 1.30840003490448, 1.2943999767303467, 1.2847000360488892, 1.274999976158142, 1.2522000074386597, 1.2513999938964844, 1.2316999435424805, 1.2316999435424805, 1.2316999435424805, 1.2309000492095947, 1.2282999753952026, 1.2024999856948853, 1.1993999481201172, 1.1563999652862549, 1.0772000551223755, 1.1753000020980835, 1.1419999599456787, 1.0026999711990356, 0.9075000286102295, 0.8183000087738037, 0.7702999711036682, 0.6111999750137329, 0.44339999556541443, 0.4778999984264374, 0.5910000205039978, 0.6014000177383423, -0.025599999353289604, 0.11400000005960464, 0.13449999690055847, 0.5501999855041504, -0.15479999780654907, 0.12460000067949295, -0.3578000068664551, 0.3398999869823456, -0.1873999983072281, 0.05909999832510948, -0.18700000643730164, -0.3057999908924103, -0.1882999986410141, -0.12720000743865967, -0.3813000023365021, -0.164000004529953, -0.05820000171661377, -0.4059000015258789, -0.37790000438690186, -0.08179999887943268, -0.3416999876499176, 1.6555999517440796, 1.611199975013733, 1.600000023841858, 1.5205999612808228, 1.520300030708313, 1.4852999448776245, 1.3853000402450562, 1.363800048828125, 1.363700032234192, 1.3581000566482544, 1.3464000225067139, 1.3286999464035034, 1.3286999464035034, 1.2853000164031982, 1.2755000591278076, 1.2692999839782715, 1.2668999433517456, 1.2446000576019287, 1.2335000038146973, 1.2034000158309937, 1.1957000494003296, 1.1878999471664429, 1.1861000061035156, 1.1786999702453613, 1.1577999591827393, 1.1450999975204468, 1.1404999494552612, 1.1273000240325928, 1.093500018119812, 1.0916999578475952, 1.086899995803833, 1.082200050354004, 1.000499963760376, 0.992900013923645, 0.6531000137329102, 0.6941999793052673, 0.9093999862670898, 0.9955999851226807, 0.46149998903274536, 0.607200026512146, 0.7494000196456909, 0.38429999351501465, 0.590499997138977, 0.38670000433921814, 0.47380000352859497, 0.23080000281333923, 0.10090000182390213, 0.030899999663233757, 0.0714000016450882, 0.36059999465942383, 0.017500000074505806, -0.03680000081658363, 0.07660000026226044, 0.07119999825954437, 0.1995999962091446, 0.00139999995008111, -0.16140000522136688, -0.07509999722242355, -0.06379999965429306, 0.11559999734163284, 0.1873999983072281, 0.08780000358819962, 0.12449999898672104, 0.06019999831914902, 0.03689999878406525, -0.07180000096559525, 0.1535000056028366, -0.060499999672174454, 1.545699954032898, 1.4402999877929688, 1.3981000185012817, 1.3661999702453613, 1.287600040435791, 1.2862999439239502, 1.2800999879837036, 1.2766000032424927, 1.2654999494552612, 1.236799955368042, 1.2174999713897705, 1.1864999532699585, 1.1864999532699585, 1.1864999532699585, 1.1864999532699585, 1.176300048828125, 1.1753000020980835, 1.1729999780654907, 1.156599998474121, 1.1555999517440796, 1.1389000415802002, 1.1309000253677368, 1.1263999938964844, 1.1243000030517578, 1.1238000392913818, 1.1231000423431396, 1.117400050163269, 1.1059999465942383, 1.097599983215332, 1.0958000421524048, 1.0920000076293945, 1.0635000467300415, 1.041599988937378, 0.9017000198364258, 0.9797999858856201, 0.9973999857902527, 0.8201000094413757, 0.9923999905586243, 0.566100001335144, 0.5619000196456909, 1.0256999731063843, 0.36719998717308044, 0.7723000049591064, 0.6258999705314636, 0.25839999318122864, 0.6718999743461609, 0.10029999911785126, 0.5989000201225281, 0.18060000240802765, 0.1428000032901764, 0.5058000087738037, 0.08699999749660492, 0.16449999809265137, 0.23149999976158142, 0.13220000267028809, 0.22949999570846558, 0.1737000048160553, 0.4004000127315521, -0.005400000140070915, 0.17829999327659607, 0.20170000195503235, 0.17589999735355377, 0.2231999933719635, 0.2110999971628189, 0.2087000012397766, 0.1429000049829483, -0.22190000116825104, -0.08749999850988388, 0.227400004863739, 1.257699966430664, 1.256700038909912, 1.2405999898910522, 1.2092000246047974, 1.2044999599456787, 1.201200008392334, 1.1971999406814575, 1.1686999797821045, 1.1656999588012695, 1.1518000364303589, 1.1331000328063965, 1.1327999830245972, 1.1309000253677368, 1.1301000118255615, 1.1296000480651855, 1.1171000003814697, 1.114300012588501, 1.1130000352859497, 1.107100009918213, 1.0889999866485596, 1.0680999755859375, 1.05239999294281, 1.0504000186920166, 1.0400999784469604, 1.0372999906539917, 1.0245000123977661, 1.009600043296814, 1.0091999769210815, 1.0085999965667725, 0.9973999857902527, 0.9943000078201294, 0.9926999807357788, 0.9678999781608582, 0.9617999792098999, 0.9233999848365784, 0.6407999992370605, 0.5925999879837036, 0.6013000011444092, 0.7653999924659729, 0.5527999997138977, 0.5376999974250793, 0.5267999768257141, 0.5566999912261963, 0.30000001192092896, 0.5077999830245972, 0.4912000000476837, 0.2069000005722046, 0.15530000627040863, 0.050599999725818634, 0.11699999868869781, 0.12929999828338623, 0.40459999442100525, 0.26170000433921814, 0.30790001153945923, 0.16210000216960907, 0.1995999962091446, 0.06210000067949295, 0.026599999517202377, 0.2687999904155731, 0.24410000443458557, 0.3183000087738037, 0.060600001364946365, 0.21580000221729279, 0.1103999987244606, -0.05820000171661377, 0.1421000063419342, 0.20980000495910645, -0.04560000076889992, 1.736199975013733, 1.7131999731063843, 1.636199951171875, 1.513700008392334, 1.5033999681472778, 1.4443000555038452, 1.437000036239624, 1.4043999910354614, 1.3980000019073486, 1.3967000246047974, 1.3431999683380127, 1.3413000106811523, 1.29830002784729, 1.2762999534606934, 1.2381999492645264, 1.2340999841690063, 1.2206000089645386, 1.19760000705719, 1.1821999549865723, 1.162500023841858, 1.1547000408172607, 1.1520999670028687, 1.134600043296814, 1.1220999956130981, 1.1207000017166138, 1.111899971961975, 1.1032999753952026, 1.1032999753952026, 1.1008000373840332, 1.097499966621399, 1.0570000410079956, 1.0703999996185303, 1.061400055885315, 0.9879000186920166, 0.977400004863739, 0.8443999886512756, 0.8920999765396118, 0.6687999963760376, 0.9506000280380249, 0.8916000127792358, 0.486299991607666, 0.2784000039100647, 0.3684000074863434, 0.02800000086426735, 0.3163999915122986, 0.21359999477863312, 0.09989999979734421, 0.125, 0.005900000222027302, -0.07020000368356705, 0.18649999797344208, -0.11190000176429749, -0.3449999988079071, -0.12409999966621399, -0.01889999955892563, -0.29600000381469727, 0.19939999282360077, 0.05810000002384186, -0.33820000290870667, -0.35429999232292175, -0.35679998993873596, -0.10189999639987946, -0.09139999747276306, -0.2500999867916107, -0.25029999017715454, -0.13330000638961792, 1.712399959564209, 1.516700029373169, 1.5130000114440918, 1.4357000589370728, 1.429800033569336, 1.4253000020980835, 1.3586000204086304, 1.3432999849319458, 1.3035999536514282, 1.2973999977111816, 1.2935999631881714, 1.2890000343322754, 1.2773000001907349, 1.2474000453948975, 1.2275999784469604, 1.2275999784469604, 1.2038999795913696, 1.194100022315979, 1.1888999938964844, 1.1884000301361084, 1.1868000030517578, 1.1435999870300293, 1.1375999450683594, 1.1234999895095825, 1.1232999563217163, 1.1160000562667847, 1.1125999689102173, 1.1065000295639038, 1.1022000312805176, 1.097599983215332, 1.0773999691009521, 0.930899977684021, 0.6784999966621399, 0.42489999532699585, 0.728600025177002, 0.477400004863739, 0.31130000948905945, 0.4887999892234802, 0.4918999969959259, 0.22419999539852142, 0.7720000147819519, 0.6330000162124634, 0.14990000426769257, 0.09640000015497208, 0.5655999779701233, 0.3418999910354614, 0.028599999845027924, 0.04500000178813934, 0.10639999806880951, 0.23980000615119934, 0.14059999585151672, 0.1770000010728836, 0.40529999136924744, 0.10559999942779541, 0.24879999458789825, -0.15520000457763672, -0.13289999961853027, 0.121799997985363, 0.24660000205039978, -0.0658000037074089, -0.12600000202655792, -0.05900000035762787, -0.003100000089034438, 0.12269999831914902, 0.2502000033855438, 0.065700002014637, 1.5749000310897827, 1.55649995803833, 1.5013999938964844, 1.5009000301361084, 1.4819999933242798, 1.4466999769210815, 1.3792999982833862, 1.368499994277954, 1.3452999591827393, 1.3056999444961548, 1.2592999935150146, 1.2573000192642212, 1.2568000555038452, 1.2546000480651855, 1.2317999601364136, 1.2235000133514404, 1.219099998474121, 1.2187000513076782, 1.2115999460220337, 1.1953999996185303, 1.1943000555038452, 1.1698999404907227, 1.167199969291687, 1.167199969291687, 1.1657999753952026, 1.1641000509262085, 1.1612000465393066, 1.1517000198364258, 1.1510000228881836, 1.1450999975204468, 1.1092000007629395, 1.1366000175476074, 1.121999979019165, 1.1217000484466553, 1.1252000331878662, 0.8597999811172485, 0.9832000136375427, 0.849399983882904, 0.8518000245094299, 0.9775000214576721, 0.9987999796867371, 0.5813000202178955, 0.8702999949455261, 0.3546999990940094, 0.7717999815940857, 0.13660000264644623, 0.07940000295639038, 0.6108999848365784, -0.007899999618530273, -0.14560000598430634, 0.15770000219345093, 0.1712000072002411, -0.0015999999595806003, 0.16509999334812164, 0.04259999841451645, -0.1128000020980835, 0.2587999999523163, -0.16050000488758087, 0.024299999698996544, -0.10270000249147415, -0.1412999927997589, -0.18170000612735748, 0.13619999587535858, 0.07180000096559525, 0.16349999606609344, -0.13570000231266022, 0.016100000590085983, 0.2619999945163727, -0.06780000030994415, 1.721500039100647, 1.642899990081787, 1.5786000490188599, 1.5161999464035034, 1.4484000205993652, 1.4244999885559082, 1.413100004196167, 1.371500015258789, 1.3464000225067139, 1.3253999948501587, 1.3029999732971191, 1.2937999963760376, 1.2898000478744507, 1.289199948310852, 1.2802000045776367, 1.2519999742507935, 1.2375999689102173, 1.1878999471664429, 1.1845999956130981, 1.176200032234192, 1.159999966621399, 1.159999966621399, 1.1405999660491943, 1.1338000297546387, 1.1276999711990356, 1.1230000257492065, 1.1069999933242798, 1.104699969291687, 1.0994000434875488, 1.0968999862670898, 1.09660005569458, 1.0875999927520752, 1.0579999685287476, 1.0132999420166016, 1.05840003490448, 0.9725000262260437, 0.6784999966621399, 0.8898000121116638, 0.3481999933719635, 0.4092999994754791, 0.19779999554157257, 0.1412999927997589, 0.6225000023841858, 0.17759999632835388, 0.24549999833106995, 0.5073000192642212, 0.28610000014305115, 0.15530000627040863, 0.042899999767541885, -0.1673000007867813, -0.08349999785423279, 0.10939999669790268, 0.149399995803833, 0.2361000031232834, -0.10830000042915344, -0.11410000175237656, 0.3856000006198883, -0.00019999999494757503, 0.14300000667572021, -0.21379999816417694, -0.15729999542236328, -0.0989999994635582, -0.21490000188350677, 0.337799996137619, -0.10130000114440918, -0.11159999668598175, 0.020600000396370888, -0.23149999976158142, 1.645300030708313, 1.5497000217437744, 1.5111000537872314, 1.5052000284194946, 1.4835000038146973, 1.466599941253662, 1.4592000246047974, 1.455299973487854, 1.429800033569336, 1.4253000020980835, 1.305299997329712, 1.2836999893188477, 1.2728999853134155, 1.261199951171875, 1.2461999654769897, 1.2381000518798828, 1.236899971961975, 1.2199000120162964, 1.2050000429153442, 1.2050000429153442, 1.19760000705719, 1.1842999458312988, 1.1784000396728516, 1.1784000396728516, 1.176800012588501, 1.167199969291687, 1.1521999835968018, 1.145799994468689, 1.1397000551223755, 1.1287000179290771, 1.073199987411499, 1.048200011253357, 0.9670000076293945, 0.9642000198364258, 0.9516000151634216, 0.6923999786376953, 0.7193999886512756, 0.6129000186920166, 0.6671000123023987, 0.7364000082015991, 0.3495999872684479, 0.06729999929666519, 0.6230999827384949, -0.10589999705553055, 0.3091000020503998, -0.042899999767541885, -0.014499999582767487, 0.09449999779462814, -0.04129999876022339, -0.07199999690055847, 0.013899999670684338, 0.051899999380111694, 0.13660000264644623, 0.12380000203847885, 0.1362999975681305, 0.14630000293254852, 0.09459999948740005, -0.013899999670684338, 0.11940000206232071, 0.06350000202655792, 0.19480000436306, -0.23260000348091125, -0.16760000586509705, 0.0794999971985817, -0.0989999994635582, -0.29420000314712524], \"logprob\": [30.0, 29.0, 28.0, 27.0, 26.0, 25.0, 24.0, 23.0, 22.0, 21.0, 20.0, 19.0, 18.0, 17.0, 16.0, 15.0, 14.0, 13.0, 12.0, 11.0, 10.0, 9.0, 8.0, 7.0, 6.0, 5.0, 4.0, 3.0, 2.0, 1.0, -8.516200065612793, -8.447699546813965, -8.404600143432617, -8.718999862670898, -8.922599792480469, -8.452099800109863, -8.856100082397461, -8.948599815368652, -8.857000350952148, -8.589300155639648, -8.998800277709961, -8.851799964904785, -8.956999778747559, -8.501899719238281, -9.051300048828125, -8.998499870300293, -8.048999786376953, -8.843199729919434, -8.922300338745117, -9.100299835205078, -9.157500267028809, -9.163599967956543, -9.163599967956543, -8.787199974060059, -8.826899528503418, -9.118000030517578, -9.190400123596191, -9.082300186157227, -8.664899826049805, -8.970000267028809, -8.794899940490723, -8.508199691772461, -8.62720012664795, -7.9670000076293945, -8.342700004577637, -8.9621000289917, -7.790800094604492, -7.605500221252441, -7.392300128936768, -7.9756999015808105, -8.434200286865234, -7.497700214385986, -7.487800121307373, -7.553899765014648, -7.641600131988525, -8.107399940490723, -8.41189956665039, -7.485499858856201, -8.009200096130371, -7.6265997886657715, -7.994900226593018, -7.83519983291626, -7.74459981918335, -7.907800197601318, -7.645899772644043, -8.030099868774414, -7.83650016784668, -7.83459997177124, -7.749899864196777, -7.910200119018555, -7.929900169372559, -7.9899001121521, -7.900000095367432, -7.843599796295166, -7.949399948120117, -7.956099987030029, -7.941500186920166, -7.960899829864502, -7.979000091552734, -8.032699584960938, -8.637399673461914, -8.463199615478516, -8.683300018310547, -8.625200271606445, -8.633999824523926, -8.718899726867676, -8.75059986114502, -8.305700302124023, -8.808799743652344, -8.826399803161621, -8.838600158691406, -8.861499786376953, -8.861499786376953, -8.268600463867188, -8.66469955444336, -8.4798002243042, -8.387399673461914, -8.806900024414062, -8.732399940490723, -8.772199630737305, -9.045999526977539, -8.337599754333496, -9.072699546813965, -9.072699546813965, -9.072699546813965, -9.073699951171875, -9.077099800109863, -9.110400199890137, -8.585800170898438, -8.58899974822998, -7.84499979019165, -8.806900024414062, -8.753199577331543, -8.299500465393066, -8.163399696350098, -8.01669979095459, -8.1427001953125, -8.10789966583252, -8.030900001525879, -8.088199615478516, -8.199799537658691, -8.228899955749512, -7.7596001625061035, -7.879199981689453, -7.949999809265137, -8.298600196838379, -7.910299777984619, -8.066300392150879, -7.935299873352051, -8.226900100708008, -8.017600059509277, -8.149800300598145, -8.092499732971191, -8.0733003616333, -8.119199752807617, -8.148200035095215, -8.110600471496582, -8.195699691772461, -8.223799705505371, -8.24470043182373, -8.264300346374512, -8.274100303649902, -8.273300170898438, -8.117600440979004, -8.216899871826172, -8.063699722290039, -8.404500007629395, -8.269499778747559, -8.473099708557129, -8.656000137329102, -8.693599700927734, -8.693599700927734, -8.213000297546387, -8.723400115966797, -8.753399848937988, -8.753399848937988, -7.847400188446045, -8.84160041809082, -8.78380012512207, -8.491000175476074, -8.842399597167969, -8.77239990234375, -8.956500053405762, -8.617899894714355, -8.585700035095215, -8.983400344848633, -8.994799613952637, -8.94260025024414, -8.310400009155273, -9.015999794006348, -9.07289981842041, -9.059800148010254, -9.125800132751465, -8.708900451660156, -8.53030014038086, -8.425000190734863, -8.550999641418457, -7.73960018157959, -7.868800163269043, -8.373600006103516, -8.569999694824219, -7.652299880981445, -7.932000160217285, -8.20199966430664, -7.751500129699707, -8.045299530029297, -7.910799980163574, -8.006699562072754, -7.8867998123168945, -7.7855000495910645, -7.736499786376953, -7.767499923706055, -8.006500244140625, -7.772900104522705, -7.765999794006348, -7.856500148773193, -7.860300064086914, -7.941299915313721, -7.828800201416016, -7.738900184631348, -7.809100151062012, -7.819300174713135, -7.916100025177002, -7.955399990081787, -7.9253997802734375, -7.969200134277344, -7.9608001708984375, -7.972499847412109, -7.97730016708374, -7.995200157165527, -7.991399765014648, -8.225299835205078, -8.51259994506836, -8.522299766540527, -8.256500244140625, -8.327799797058105, -7.957900047302246, -8.801799774169922, -8.80780029296875, -8.562299728393555, -8.874300003051758, -8.905799865722656, -8.955900192260742, -8.955900192260742, -8.955900192260742, -8.955900192260742, -8.720499992370605, -8.895999908447266, -8.884499549865723, -8.771900177001953, -9.00469970703125, -9.030900001525879, -9.043299674987793, -8.913700103759766, -8.989800453186035, -8.814299583435059, -8.805399894714355, -8.67199993133545, -8.997400283813477, -9.01039981842041, -9.097000122070312, -8.373800277709961, -8.115300178527832, -8.368399620056152, -7.889100074768066, -8.292499542236328, -8.46660041809082, -7.85860013961792, -8.49839973449707, -7.527599811553955, -7.52269983291626, -8.642399787902832, -7.538400173187256, -8.259599685668945, -8.041500091552734, -7.508999824523926, -8.178199768066406, -7.477200031280518, -8.124899864196777, -7.658199787139893, -7.647500038146973, -8.052800178527832, -7.642300128936768, -7.72189998626709, -7.789599895477295, -7.697999954223633, -7.80210018157959, -7.759399890899658, -7.980500221252441, -7.7393999099731445, -7.962699890136719, -7.989200115203857, -7.982100009918213, -8.010000228881836, -8.01710033416748, -8.02649974822998, -8.038700103759766, -7.977399826049805, -8.019000053405762, -8.066800117492676, -8.151200294494629, -8.229499816894531, -8.401700019836426, -8.570599555969238, -8.667699813842773, -8.353799819946289, -8.682600021362305, -8.513799667358398, -8.750900268554688, -8.708900451660156, -7.855899810791016, -8.818900108337402, -8.616600036621094, -8.824299812316895, -8.825499534606934, -8.850600242614746, -8.773500442504883, -8.858699798583984, -8.689200401306152, -8.905799865722656, -8.727899551391602, -8.840800285339355, -8.907699584960938, -8.998800277709961, -9.00409984588623, -8.956899642944336, -8.746999740600586, -9.055500030517578, -9.056599617004395, -9.076800346374512, -8.89780044555664, -8.838299751281738, -8.675299644470215, -8.683600425720215, -8.45680046081543, -7.352399826049805, -7.606100082397461, -7.703499794006348, -8.17549991607666, -7.8649001121521, -7.944699764251709, -7.950200080871582, -8.003499984741211, -7.605500221252441, -7.998000144958496, -7.989699840545654, -7.631999969482422, -7.635000228881836, -7.526899814605713, -7.612299919128418, -7.626299858093262, -7.954500198364258, -7.836900234222412, -7.891300201416016, -7.768799781799316, -7.809700012207031, -7.705399990081787, -7.707399845123291, -7.915500164031982, -7.904600143432617, -7.96150016784668, -7.8709001541137695, -7.9421000480651855, -7.9028000831604, -7.888299942016602, -7.975399971008301, -7.979800224304199, -7.978600025177002, -8.031700134277344, -8.3548002243042, -7.996099948883057, -8.644800186157227, -8.653499603271484, -8.325499534606934, -8.346099853515625, -8.861200332641602, -8.813699722290039, -8.474100112915039, -8.785400390625, -8.626099586486816, -8.953399658203125, -8.937999725341797, -8.964599609375, -8.945300102233887, -9.101200103759766, -9.088899612426758, -9.0177001953125, -8.88700008392334, -9.184200286865234, -9.187399864196777, -9.209199905395508, -9.224800109863281, -9.226400375366211, -9.033699989318848, -9.247900009155273, -9.247900009155273, -8.911499977111816, -8.818300247192383, -8.121800422668457, -8.843099594116211, -8.93179988861084, -8.657299995422363, -8.656599998474121, -8.419300079345703, -8.540900230407715, -8.042799949645996, -8.71969985961914, -8.624300003051758, -8.024999618530273, -7.80620002746582, -7.997000217437744, -7.705999851226807, -8.076199531555176, -7.995299816131592, -7.93179988861084, -7.988800048828125, -7.9257001876831055, -7.90910005569458, -8.111000061035156, -7.902200222015381, -7.922500133514404, -8.055000305175781, -8.117500305175781, -8.025199890136719, -8.281100273132324, -8.221699714660645, -8.105600357055664, -8.109800338745117, -8.187000274658203, -8.259900093078613, -8.275699615478516, -8.259499549865723, -8.263500213623047, -8.274200439453125, -8.085599899291992, -8.194899559020996, -8.485199928283691, -8.561100006103516, -8.631799697875977, -8.561100006103516, -8.750499725341797, -8.759900093078613, -8.233799934387207, -8.692700386047363, -8.80049991607666, -8.664600372314453, -8.879799842834473, -8.856800079345703, -8.95580005645752, -8.955900192260742, -8.991600036621094, -9.006199836730957, -8.728300094604492, -8.845399856567383, -8.629799842834473, -8.981800079345703, -9.043499946594238, -8.86050033569336, -8.860600471496582, -8.936800003051758, -8.998700141906738, -9.043299674987793, -8.8371000289917, -9.146499633789062, -8.898799896240234, -8.421799659729004, -7.751999855041504, -7.152599811553955, -8.136300086975098, -7.820799827575684, -7.575099945068359, -7.892399787902832, -7.960100173950195, -7.707399845123291, -8.42020034790039, -8.260000228881836, -7.680200099945068, -7.637599945068359, -8.214500427246094, -8.01449966430664, -7.7270002365112305, -7.7453999519348145, -7.82450008392334, -7.941800117492676, -7.88040018081665, -7.988500118255615, -8.157699584960938, -7.988100051879883, -8.080699920654297, -7.884500026702881, -7.900300025939941, -8.020999908447266, -8.089400291442871, -7.971399784088135, -7.964900016784668, -7.992099761962891, -8.016300201416016, -8.086199760437012, -8.126399993896484, -8.123900413513184, -8.472200393676758, -8.41409969329834, -8.143799781799316, -8.520400047302246, -8.626399993896484, -8.682600021362305, -8.786999702453613, -8.803400039672852, -8.500100135803223, -8.684000015258789, -8.964099884033203, -8.967100143432617, -7.69320011138916, -8.882399559020996, -8.88029956817627, -8.260000228881836, -9.021400451660156, -8.984800338745117, -8.678600311279297, -8.935199737548828, -9.05620002746582, -9.090200424194336, -9.093899726867676, -9.093899726867676, -9.049200057983398, -8.869999885559082, -9.053799629211426, -8.959400177001953, -9.116299629211426, -8.624699592590332, -7.396599769592285, -8.604399681091309, -8.473099708557129, -8.661399841308594, -8.75879955291748, -7.990099906921387, -8.431599617004395, -8.05519962310791, -8.194000244140625, -8.502400398254395, -8.635600090026855, -8.039400100708008, -8.452799797058105, -7.793900012969971, -8.328300476074219, -7.794899940490723, -7.759500026702881, -8.280200004577637, -7.7418999671936035, -7.723100185394287, -7.955999851226807, -8.021100044250488, -7.932499885559082, -8.031599998474121, -7.966700077056885, -7.880199909210205, -8.106599807739258, -7.889800071716309, -7.988900184631348, -7.932799816131592, -7.931600093841553, -7.93720006942749, -8.072699546813965, -8.086199760437012, -8.141300201416016, -8.06879997253418, -8.138099670410156, -8.18529987335205, -8.18529987335205, -6.7108001708984375, -8.428199768066406, -8.109700202941895, -7.754499912261963, -8.378000259399414, -8.767399787902832, -8.612000465393066, -8.633899688720703, -8.688400268554688, -8.90939998626709, -8.748299598693848, -8.748499870300293, -8.723699569702148, -8.959799766540527, -8.972299575805664, -9.01099967956543, -8.511300086975098, -9.097399711608887, -9.101900100708008, -9.11299991607666, -9.134499549865723, -9.134499549865723, -9.091300010681152, -9.079000473022461, -9.17710018157959, -8.706999778747559, -9.119799613952637, -8.728599548339844, -9.21399974822998, -9.133500099182129, -8.920499801635742, -8.864399909973145, -8.368499755859375, -8.083800315856934, -8.781800270080566, -8.71500015258789, -8.200400352478027, -8.646300315856934, -7.8414998054504395, -7.966899871826172, -7.688700199127197, -7.614200115203857, -8.29319953918457, -7.72790002822876, -7.953199863433838, -8.235600471496582, -8.019200325012207, -7.938399791717529, -7.890200138092041, -7.744800090789795, -7.81279993057251, -7.975100040435791, -8.004799842834473, -8.068699836730957, -7.875699996948242, -7.904399871826172, -8.185500144958496, -8.009499549865723, -8.090100288391113, -7.947800159454346, -7.987400054931641, -8.030500411987305, -8.053799629211426, -8.192099571228027, -8.122300148010254, -8.124899864196777, -8.170299530029297, -8.162300109863281, -8.365300178527832, -8.529000282287598, -8.48449993133545, -8.55109977722168, -8.636300086975098, -8.022100448608398, -8.603500366210938, -8.6806001663208, -8.160599708557129, -8.72719955444336, -7.680600166320801, -8.305000305175781, -8.719900131225586, -8.969300270080566, -8.990500450134277, -8.984000205993652, -8.909000396728516, -9.02750015258789, -8.91919994354248, -9.048199653625488, -8.682299613952637, -8.682299613952637, -9.085000038146973, -9.085000038146973, -8.673999786376953, -8.735799789428711, -9.120800018310547, -8.759200096130371, -8.800299644470215, -9.073399543762207, -7.359099864959717, -8.442700386047363, -7.984399795532227, -8.257599830627441, -8.38949966430664, -8.037400245666504, -8.185199737548828, -8.059300422668457, -8.175800323486328, -8.27649974822998, -7.878900051116943, -7.661900043487549, -8.289899826049805, -7.6834001541137695, -8.024200439453125, -7.776899814605713, -7.804800033569336, -7.89870023727417, -7.808700084686279, -7.827499866485596, -7.916900157928467, -7.957399845123291, -8.00629997253418, -8.030400276184082, -8.055899620056152, -8.062600135803223, -8.056500434875488, -8.027099609375, -8.077300071716309, -8.072400093078613, -8.109999656677246, -8.062700271606445, -8.100600242614746, -8.133099555969238, -8.130599975585938, -8.133000373840332]}, \"token.table\": {\"Topic\": [5, 5, 5, 5, 4, 5, 5, 1, 4, 5, 5, 1, 4, 5, 7, 5, 4, 1, 1, 5, 9, 1, 4, 5, 5, 1, 5, 5, 5, 1, 5, 1, 5, 5, 1, 1, 5, 5], \"Freq\": [0.3334846794605255, 0.414350301027298, 0.39411938190460205, 0.36186113953590393, 0.3886113166809082, 0.35468289256095886, 0.2895614206790924, 0.3187667727470398, 0.3249148726463318, 0.3249148726463318, 0.4356173872947693, 0.2340538203716278, 0.2340538203716278, 0.2340538203716278, 0.2340538203716278, 0.9601171612739563, 0.39218246936798096, 0.42821142077445984, 0.2724115550518036, 0.2724115550518036, 0.5502253174781799, 0.2830027937889099, 0.2830027937889099, 0.2830027937889099, 0.48436567187309265, 0.3013207018375397, 0.3013207018375397, 0.3604535162448883, 0.30395838618278503, 0.2796581983566284, 0.2796581983566284, 0.2737024426460266, 0.2737024426460266, 0.4358313977718353, 0.3339941203594208, 0.3332572281360626, 0.3332572281360626, 0.5422831177711487], \"Term\": [\"Bereich\", \"Digitalisierung\", \"Energie\", \"Entwicklung\", \"Familie\", \"Fl\\u00fcchtling\", \"Frage\", \"Frau\", \"Freiheit\", \"Freiheit\", \"Friede\", \"Jahr\", \"Jahr\", \"Jahr\", \"Jahr\", \"Januar\", \"Kind\", \"Krise\", \"Land\", \"Land\", \"Mai\", \"Mensch\", \"Mensch\", \"Mensch\", \"Nachhaltigkeit\", \"Prozent\", \"Prozent\", \"Staat\", \"Thema\", \"Union\", \"Union\", \"Unternehmen\", \"Unternehmen\", \"Verantwortung\", \"Welt\", \"Wirtschaft\", \"Wirtschaft\", \"b\\u00fcrgern\"]}, \"R\": 30, \"lambda.step\": 0.01, \"plot.opts\": {\"xlab\": \"PC1\", \"ylab\": \"PC2\"}, \"topic.order\": [1, 2, 3, 4, 5, 6, 7, 8, 9, 10]};\n",
       "\n",
       "function LDAvis_load_lib(url, callback){\n",
       "  var s = document.createElement('script');\n",
       "  s.src = url;\n",
       "  s.async = true;\n",
       "  s.onreadystatechange = s.onload = callback;\n",
       "  s.onerror = function(){console.warn(\"failed to load library \" + url);};\n",
       "  document.getElementsByTagName(\"head\")[0].appendChild(s);\n",
       "}\n",
       "\n",
       "if(typeof(LDAvis) !== \"undefined\"){\n",
       "   // already loaded: just create the visualization\n",
       "   !function(LDAvis){\n",
       "       new LDAvis(\"#\" + \"ldavis_el8241122172869609262146369\", ldavis_el8241122172869609262146369_data);\n",
       "   }(LDAvis);\n",
       "}else if(typeof define === \"function\" && define.amd){\n",
       "   // require.js is available: use it to load d3/LDAvis\n",
       "   require.config({paths: {d3: \"https://cdnjs.cloudflare.com/ajax/libs/d3/3.5.5/d3.min\"}});\n",
       "   require([\"d3\"], function(d3){\n",
       "      window.d3 = d3;\n",
       "      LDAvis_load_lib(\"https://cdn.rawgit.com/bmabey/pyLDAvis/files/ldavis.v1.0.0.js\", function(){\n",
       "        new LDAvis(\"#\" + \"ldavis_el8241122172869609262146369\", ldavis_el8241122172869609262146369_data);\n",
       "      });\n",
       "    });\n",
       "}else{\n",
       "    // require.js not available: dynamically load d3 & LDAvis\n",
       "    LDAvis_load_lib(\"https://cdnjs.cloudflare.com/ajax/libs/d3/3.5.5/d3.min.js\", function(){\n",
       "         LDAvis_load_lib(\"https://cdn.rawgit.com/bmabey/pyLDAvis/files/ldavis.v1.0.0.js\", function(){\n",
       "                 new LDAvis(\"#\" + \"ldavis_el8241122172869609262146369\", ldavis_el8241122172869609262146369_data);\n",
       "            })\n",
       "         });\n",
       "}\n",
       "</script>"
      ],
      "text/plain": [
       "<IPython.core.display.HTML object>"
      ]
     },
     "execution_count": 59,
     "metadata": {},
     "output_type": "execute_result"
    }
   ],
   "source": [
    "#lda_tfidf = gensim.models.ldamodel.LdaModel(tfidf_corpus, num_topics=10, id2word=dictionary)\n",
    "#lda_tfidf_display = pyLDAvis.gensim.prepare(lda_tfidf, tfidf_corpus, dictionary, sort_topics=False)\n",
    "#pyLDAvis.display(lda_tfidf_display)"
   ]
  },
  {
   "cell_type": "code",
   "execution_count": null,
   "metadata": {},
   "outputs": [],
   "source": []
  }
 ],
 "metadata": {
  "kernelspec": {
   "display_name": "Python 3",
   "language": "python",
   "name": "python3"
  },
  "language_info": {
   "codemirror_mode": {
    "name": "ipython",
    "version": 3
   },
   "file_extension": ".py",
   "mimetype": "text/x-python",
   "name": "python",
   "nbconvert_exporter": "python",
   "pygments_lexer": "ipython3",
   "version": "3.6.8"
  }
 },
 "nbformat": 4,
 "nbformat_minor": 2
}
